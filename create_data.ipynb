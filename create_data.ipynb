{
 "cells": [
  {
   "cell_type": "code",
   "execution_count": 5,
   "id": "c34e8e40",
   "metadata": {},
   "outputs": [],
   "source": [
    "import cv2,sys,numpy,os"
   ]
  },
  {
   "cell_type": "code",
   "execution_count": 6,
   "id": "9bd5bf6f",
   "metadata": {},
   "outputs": [],
   "source": [
    "\n",
    "haar_file = 'haarcascade_frontalface_default.xml'\n",
    "datasets = 'dataset'\n",
    "sub_data = 'kerubo_Monicah'\n",
    "path = os.path.join(datasets,sub_data)\n",
    "if not os.path.isdir(path):\n",
    "    os.mkdir(path)\n",
    "(width,height) = (130,100)\n",
    "face_cascade = cv2.CascadeClassifier(haar_file)\n",
    "\n",
    "#webcam = cv2.VideoCapture(0)\n",
    "webcam = cv2.VideoCapture(0)  # Use the correct camera index (0 for default camera)\n",
    "if not webcam.isOpened():\n",
    "    print(\"Error: Webcam not opened\")\n",
    "else:\n",
    "    # Start processing frames\n",
    " \n",
    "  webcam.set(10,200)\n",
    "\n",
    "count = 1\n",
    "\n",
    "\n",
    "while count < 45:\n",
    "    (_,im) = webcam.read()\n",
    "    gray = cv2.cvtColor(im,cv2.COLOR_BGR2GRAY)\n",
    "    faces = face_cascade.detectMultiScale(gray,1.3,4)\n",
    "    for (x,y,w,h) in faces:\n",
    "        cv2.rectangle(im,(x,y),(x+w,y+h),(255,0,0),2)\n",
    "        face = gray[y:y + h,x:x + w]\n",
    "        face_resize = cv2.resize(face,(width,height))\n",
    "        cv2.imwrite('% s/% s.png' % (path,count),face_resize)\n",
    "    count +=1\n",
    "    cv2.imshow('Learning stage',im)\n",
    "    key = cv2.waitKey(10)\n",
    "    if cv2.waitKey(1) == 27:\n",
    "        break\n",
    "webcam.release()\n",
    "cv2.destroyAllWindows()\n",
    "#END OF THE CODE"
   ]
  },
  {
   "cell_type": "code",
   "execution_count": null,
   "id": "25b05995",
   "metadata": {},
   "outputs": [],
   "source": []
  },
  {
   "cell_type": "code",
   "execution_count": null,
   "id": "0aa2a9a0",
   "metadata": {},
   "outputs": [],
   "source": []
  }
 ],
 "metadata": {
  "kernelspec": {
   "display_name": "Python 3 (ipykernel)",
   "language": "python",
   "name": "python3"
  },
  "language_info": {
   "codemirror_mode": {
    "name": "ipython",
    "version": 3
   },
   "file_extension": ".py",
   "mimetype": "text/x-python",
   "name": "python",
   "nbconvert_exporter": "python",
   "pygments_lexer": "ipython3",
   "version": "3.10.9"
  }
 },
 "nbformat": 4,
 "nbformat_minor": 5
}
