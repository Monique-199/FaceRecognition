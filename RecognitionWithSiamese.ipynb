{
 "cells": [
  {
   "cell_type": "code",
   "execution_count": 4,
   "id": "2abcfd24",
   "metadata": {},
   "outputs": [
    {
     "name": "stdout",
     "output_type": "stream",
     "text": [
      "Defaulting to user installation because normal site-packages is not writeable\n",
      "Collecting tensorflow-gpu\n",
      "  Using cached tensorflow-gpu-2.12.0.tar.gz (2.6 kB)\n",
      "  Preparing metadata (setup.py): started\n",
      "  Preparing metadata (setup.py): finished with status 'done'\n",
      "Requirement already satisfied: python_version>\"3.7\" in c:\\programdata\\anaconda3\\lib\\site-packages (from tensorflow-gpu) (0.0.2)\n",
      "Building wheels for collected packages: tensorflow-gpu\n",
      "  Building wheel for tensorflow-gpu (setup.py): started\n",
      "  Building wheel for tensorflow-gpu (setup.py): finished with status 'error'\n",
      "  Running setup.py clean for tensorflow-gpu\n",
      "Failed to build tensorflow-gpu\n",
      "Installing collected packages: tensorflow-gpu\n",
      "  Running setup.py install for tensorflow-gpu: started\n",
      "  Running setup.py install for tensorflow-gpu: finished with status 'error'\n",
      "Note: you may need to restart the kernel to use updated packages.\n"
     ]
    },
    {
     "name": "stderr",
     "output_type": "stream",
     "text": [
      "  error: subprocess-exited-with-error\n",
      "  \n",
      "  python setup.py bdist_wheel did not run successfully.\n",
      "  exit code: 1\n",
      "  \n",
      "  [18 lines of output]\n",
      "  Traceback (most recent call last):\n",
      "    File \"<string>\", line 2, in <module>\n",
      "    File \"<pip-setuptools-caller>\", line 34, in <module>\n",
      "    File \"C:\\Users\\inven\\AppData\\Local\\Temp\\pip-install-eih51yjk\\tensorflow-gpu_f1a0fa5b43ec4fb5bee16521d425bcef\\setup.py\", line 37, in <module>\n",
      "      raise Exception(TF_REMOVAL_WARNING)\n",
      "  Exception:\n",
      "  \n",
      "  =========================================================\n",
      "  The \"tensorflow-gpu\" package has been removed!\n",
      "  \n",
      "  Please install \"tensorflow\" instead.\n",
      "  \n",
      "  Other than the name, the two packages have been identical\n",
      "  since TensorFlow 2.1, or roughly since Sep 2019. For more\n",
      "  information, see: pypi.org/project/tensorflow-gpu\n",
      "  =========================================================\n",
      "  \n",
      "  \n",
      "  [end of output]\n",
      "  \n",
      "  note: This error originates from a subprocess, and is likely not a problem with pip.\n",
      "  ERROR: Failed building wheel for tensorflow-gpu\n",
      "  error: subprocess-exited-with-error\n",
      "  \n",
      "  Running setup.py install for tensorflow-gpu did not run successfully.\n",
      "  exit code: 1\n",
      "  \n",
      "  [18 lines of output]\n",
      "  Traceback (most recent call last):\n",
      "    File \"<string>\", line 2, in <module>\n",
      "    File \"<pip-setuptools-caller>\", line 34, in <module>\n",
      "    File \"C:\\Users\\inven\\AppData\\Local\\Temp\\pip-install-eih51yjk\\tensorflow-gpu_f1a0fa5b43ec4fb5bee16521d425bcef\\setup.py\", line 37, in <module>\n",
      "      raise Exception(TF_REMOVAL_WARNING)\n",
      "  Exception:\n",
      "  \n",
      "  =========================================================\n",
      "  The \"tensorflow-gpu\" package has been removed!\n",
      "  \n",
      "  Please install \"tensorflow\" instead.\n",
      "  \n",
      "  Other than the name, the two packages have been identical\n",
      "  since TensorFlow 2.1, or roughly since Sep 2019. For more\n",
      "  information, see: pypi.org/project/tensorflow-gpu\n",
      "  =========================================================\n",
      "  \n",
      "  \n",
      "  [end of output]\n",
      "  \n",
      "  note: This error originates from a subprocess, and is likely not a problem with pip.\n",
      "error: legacy-install-failure\n",
      "\n",
      "Encountered error while trying to install package.\n",
      "\n",
      "tensorflow-gpu\n",
      "\n",
      "note: This is an issue with the package mentioned above, not pip.\n",
      "hint: See above for output from the failure.\n"
     ]
    }
   ],
   "source": [
    "pip install tensorflow-gpu"
   ]
  },
  {
   "cell_type": "code",
   "execution_count": 2,
   "id": "9b270d85",
   "metadata": {},
   "outputs": [],
   "source": [
    "#installing dependencies\n",
    "import cv2\n",
    "import os\n",
    "import random\n",
    "import numpy as np\n",
    "from matplotlib import pyplot as plt"
   ]
  },
  {
   "cell_type": "code",
   "execution_count": 3,
   "id": "6d44ac3a",
   "metadata": {},
   "outputs": [],
   "source": [
    "#to visualize an image\n",
    "plt.imshow??"
   ]
  },
  {
   "cell_type": "code",
   "execution_count": 4,
   "id": "79902be5",
   "metadata": {},
   "outputs": [],
   "source": [
    "from tensorflow.keras.models import Model\n",
    "from tensorflow.keras.layers import Layer, Conv2D, Dense, MaxPooling2D, Input, Flatten\n",
    "import tensorflow as tf\n"
   ]
  },
  {
   "cell_type": "code",
   "execution_count": 5,
   "id": "2b181770",
   "metadata": {},
   "outputs": [],
   "source": [
    "# Setup paths\n",
    "POS_PATH = os.path.join('data', 'positive')\n",
    "NEG_PATH = os.path.join('data', 'negative')\n",
    "ANC_PATH = os.path.join('data', 'anchor')"
   ]
  },
  {
   "cell_type": "code",
   "execution_count": 6,
   "id": "af224d06",
   "metadata": {},
   "outputs": [
    {
     "ename": "FileExistsError",
     "evalue": "[WinError 183] Cannot create a file when that file already exists: 'data\\\\positive'",
     "output_type": "error",
     "traceback": [
      "\u001b[1;31m---------------------------------------------------------------------------\u001b[0m",
      "\u001b[1;31mFileExistsError\u001b[0m                           Traceback (most recent call last)",
      "Cell \u001b[1;32mIn[6], line 2\u001b[0m\n\u001b[0;32m      1\u001b[0m \u001b[38;5;66;03m# Make the directories\u001b[39;00m\n\u001b[1;32m----> 2\u001b[0m \u001b[43mos\u001b[49m\u001b[38;5;241;43m.\u001b[39;49m\u001b[43mmakedirs\u001b[49m\u001b[43m(\u001b[49m\u001b[43mPOS_PATH\u001b[49m\u001b[43m)\u001b[49m\n\u001b[0;32m      3\u001b[0m os\u001b[38;5;241m.\u001b[39mmakedirs(NEG_PATH)\n\u001b[0;32m      4\u001b[0m os\u001b[38;5;241m.\u001b[39mmakedirs(ANC_PATH)\n",
      "File \u001b[1;32mC:\\ProgramData\\anaconda3\\lib\\os.py:225\u001b[0m, in \u001b[0;36mmakedirs\u001b[1;34m(name, mode, exist_ok)\u001b[0m\n\u001b[0;32m    223\u001b[0m         \u001b[38;5;28;01mreturn\u001b[39;00m\n\u001b[0;32m    224\u001b[0m \u001b[38;5;28;01mtry\u001b[39;00m:\n\u001b[1;32m--> 225\u001b[0m     \u001b[43mmkdir\u001b[49m\u001b[43m(\u001b[49m\u001b[43mname\u001b[49m\u001b[43m,\u001b[49m\u001b[43m \u001b[49m\u001b[43mmode\u001b[49m\u001b[43m)\u001b[49m\n\u001b[0;32m    226\u001b[0m \u001b[38;5;28;01mexcept\u001b[39;00m \u001b[38;5;167;01mOSError\u001b[39;00m:\n\u001b[0;32m    227\u001b[0m     \u001b[38;5;66;03m# Cannot rely on checking for EEXIST, since the operating system\u001b[39;00m\n\u001b[0;32m    228\u001b[0m     \u001b[38;5;66;03m# could give priority to other errors like EACCES or EROFS\u001b[39;00m\n\u001b[0;32m    229\u001b[0m     \u001b[38;5;28;01mif\u001b[39;00m \u001b[38;5;129;01mnot\u001b[39;00m exist_ok \u001b[38;5;129;01mor\u001b[39;00m \u001b[38;5;129;01mnot\u001b[39;00m path\u001b[38;5;241m.\u001b[39misdir(name):\n",
      "\u001b[1;31mFileExistsError\u001b[0m: [WinError 183] Cannot create a file when that file already exists: 'data\\\\positive'"
     ]
    }
   ],
   "source": [
    "# Make the directories\n",
    "os.makedirs(POS_PATH)\n",
    "os.makedirs(NEG_PATH)\n",
    "os.makedirs(ANC_PATH)"
   ]
  },
  {
   "cell_type": "code",
   "execution_count": 7,
   "id": "10464f0f",
   "metadata": {},
   "outputs": [],
   "source": [
    "#collecting datasets from labeled datasets in the wild \n",
    "# http://vis-www.cs.umass.edu/lfw/\n",
    "# Move dataset Images to the following repository data/negative\n",
    "for directory in os.listdir('dataset'):#looping though every single folder\n",
    "    for file in os.listdir(os.path.join('dataset', directory)):#looping through each file in each folder\n",
    "        EX_PATH = os.path.join('dataset', directory, file)# define existing path\n",
    "        NEW_PATH = os.path.join(NEG_PATH, file)#specify new path for negative\n",
    "        os.replace(EX_PATH, NEW_PATH)# pass existing path to a new path"
   ]
  },
  {
   "cell_type": "code",
   "execution_count": 8,
   "id": "e0e944da",
   "metadata": {},
   "outputs": [
    {
     "data": {
      "text/plain": [
       "['aishwarya_rai',\n",
       " 'angelina_jolie',\n",
       " 'arnold_schwarzenegger',\n",
       " 'bhuvan_bam',\n",
       " 'brad_pitt',\n",
       " 'bruno_Oyuko',\n",
       " 'Courteney_Cox',\n",
       " 'David_Schwimmer',\n",
       " 'dhoni',\n",
       " 'hardik_pandya',\n",
       " 'Jennifer_Aniston',\n",
       " 'Jim_Parsons',\n",
       " 'Johnny_Galeck',\n",
       " 'Joseph_0696',\n",
       " 'kerubo_Monicah',\n",
       " 'Kunal_Nayya',\n",
       " 'Lisa_Kudrow',\n",
       " 'manoj_bajpayee',\n",
       " 'Matthew_Perry',\n",
       " 'Matt_LeBlanc',\n",
       " 'messi',\n",
       " 'mohamed_ali',\n",
       " 'Pankaj_Tripathi',\n",
       " 'pewdiepie',\n",
       " 'random_person',\n",
       " 'ROHIT_SHARMA',\n",
       " 'ronaldo',\n",
       " 'Sachin_Tendulka',\n",
       " 'scarlett_johansson',\n",
       " 'Simon_Helberg',\n",
       " 'suresh_raina',\n",
       " 'sylvester_stallone',\n",
       " 'virat_kohli']"
      ]
     },
     "execution_count": 8,
     "metadata": {},
     "output_type": "execute_result"
    }
   ],
   "source": [
    "os.listdir('dataset')"
   ]
  },
  {
   "cell_type": "code",
   "execution_count": 9,
   "id": "e0c7216c",
   "metadata": {},
   "outputs": [],
   "source": [
    "# Importing uuid library to generate unique image names\n",
    "import uuid"
   ]
  },
  {
   "cell_type": "code",
   "execution_count": 10,
   "id": "37723d2d",
   "metadata": {},
   "outputs": [
    {
     "data": {
      "text/plain": [
       "'data\\\\anchor\\\\92e3f43a-7fcf-11ee-97ea-0090a2cf62d8.jpg'"
      ]
     },
     "execution_count": 10,
     "metadata": {},
     "output_type": "execute_result"
    }
   ],
   "source": [
    "#storing images inside the anchor folder\n",
    "os.path.join(ANC_PATH, '{}.jpg'.format(uuid.uuid1()))"
   ]
  },
  {
   "cell_type": "code",
   "execution_count": 11,
   "id": "58e83837",
   "metadata": {},
   "outputs": [],
   "source": [
    "# Establish a connection to the webcam\n",
    "cap = cv2.VideoCapture(0)\n",
    "while cap.isOpened(): \n",
    "    ret, frame = cap.read()\n",
    "   \n",
    "    # Cut down frame to 250x250px\n",
    "    frame = frame[120:120+350,200:200+350, :]#specifying the range of values we want from an image\n",
    "    \n",
    "    # Collect anchors \n",
    "    if cv2.waitKey(1) & 0XFF == ord('a'):\n",
    "        # Create the unique file path \n",
    "        imgname = os.path.join(ANC_PATH, '{}.jpg'.format(uuid.uuid1()))\n",
    "        # Write out anchor image\n",
    "        cv2.imwrite(imgname, frame)\n",
    "    \n",
    "    # Collect positives\n",
    "    if cv2.waitKey(1) & 0XFF == ord('p'):\n",
    "        # Create the unique file path \n",
    "        imgname = os.path.join(POS_PATH, '{}.jpg'.format(uuid.uuid1()))\n",
    "        # Write out positive image\n",
    "        cv2.imwrite(imgname, frame)\n",
    "    \n",
    "    # Show image back to screen\n",
    "    cv2.imshow('Image Collection', frame)\n",
    "    \n",
    "    # Breaking gracefully\n",
    "    if cv2.waitKey(1) & 0XFF == ord('q'):\n",
    "        break\n",
    "        \n",
    "# Release the webcam\n",
    "cap.release()\n",
    "# Close the image show frame\n",
    "cv2.destroyAllWindows()"
   ]
  },
  {
   "cell_type": "code",
   "execution_count": 12,
   "id": "a28370d4",
   "metadata": {},
   "outputs": [
    {
     "data": {
      "text/plain": [
       "<matplotlib.image.AxesImage at 0x1e50c6a56c0>"
      ]
     },
     "execution_count": 12,
     "metadata": {},
     "output_type": "execute_result"
    },
    {
     "data": {
      "image/png": "[encoded data removed]",
      "text/plain": [
       "<Figure size 640x480 with 1 Axes>"
      ]
     },
     "metadata": {},
     "output_type": "display_data"
    }
   ],
   "source": [
    "plt.imshow(frame)"
   ]
  },
  {
   "cell_type": "code",
   "execution_count": 13,
   "id": "2831f2ca",
   "metadata": {},
   "outputs": [
    {
     "data": {
      "text/plain": [
       "(350, 350, 3)"
      ]
     },
     "execution_count": 13,
     "metadata": {},
     "output_type": "execute_result"
    }
   ],
   "source": [
    "frame.shape"
   ]
  },
  {
   "cell_type": "code",
   "execution_count": 14,
   "id": "f5716e37",
   "metadata": {},
   "outputs": [],
   "source": [
    "#data augmentation\n",
    "def data_aug(img):\n",
    "    data = []\n",
    "    for i in range(9):\n",
    "        img = tf.image.stateless_random_brightness(img, max_delta=0.02, seed=(1,2))\n",
    "        img = tf.image.stateless_random_contrast(img, lower=0.6, upper=1, seed=(1,3))\n",
    "        # img = tf.image.stateless_random_crop(img, size=(20,20,3), seed=(1,2))\n",
    "        img = tf.image.stateless_random_flip_left_right(img, seed=(np.random.randint(100),np.random.randint(100)))\n",
    "        img = tf.image.stateless_random_jpeg_quality(img, min_jpeg_quality=90, max_jpeg_quality=100, seed=(np.random.randint(100),np.random.randint(100)))\n",
    "        img = tf.image.stateless_random_saturation(img, lower=0.9,upper=1, seed=(np.random.randint(100),np.random.randint(100)))\n",
    "            \n",
    "        data.append(img)\n",
    "    \n",
    "    return data"
   ]
  },
  {
   "cell_type": "code",
   "execution_count": 15,
   "id": "07d7c8e7",
   "metadata": {},
   "outputs": [],
   "source": [
    "#getting image directories\n",
    "anchor = tf.data.Dataset.list_files(ANC_PATH+'\\*.jpg').take(200)\n",
    "positive = tf.data.Dataset.list_files(POS_PATH+'\\*.jpg').take(200)\n",
    "negative = tf.data.Dataset.list_files(NEG_PATH+'\\*.jpg').take(200)"
   ]
  },
  {
   "cell_type": "code",
   "execution_count": 16,
   "id": "a4bf3200",
   "metadata": {},
   "outputs": [],
   "source": [
    "dir_test = anchor.as_numpy_iterator()\n"
   ]
  },
  {
   "cell_type": "code",
   "execution_count": 17,
   "id": "07ce4327",
   "metadata": {},
   "outputs": [
    {
     "name": "stdout",
     "output_type": "stream",
     "text": [
      "b'data\\\\anchor\\\\61df2f88-7e26-11ee-b36d-0090a2cf62d8.jpg'\n"
     ]
    }
   ],
   "source": [
    "print(dir_test.next())"
   ]
  },
  {
   "cell_type": "code",
   "execution_count": 18,
   "id": "ebc2f694",
   "metadata": {},
   "outputs": [],
   "source": [
    "#preprocessing, scaling and resizing\n",
    "def preprocess(file_path):\n",
    "    \n",
    "    # Read in image from file path\n",
    "    byte_img = tf.io.read_file(file_path)\n",
    "    # Load in the image \n",
    "    img = tf.io.decode_jpeg(byte_img)\n",
    "    \n",
    "    # Preprocessing steps - resizing the image to be 100x100x3\n",
    "    img = tf.image.resize(img, (100,100))\n",
    "    # Scale image to be between 0 and 1 \n",
    "    img = img / 255.0\n",
    "\n",
    "    # Return image\n",
    "    return img"
   ]
  },
  {
   "cell_type": "code",
   "execution_count": 19,
   "id": "093b0c07",
   "metadata": {},
   "outputs": [],
   "source": [
    "img = preprocess('data\\\\anchor\\\\5aca9866-7e26-11ee-be5c-0090a2cf62d8.jpg')"
   ]
  },
  {
   "cell_type": "code",
   "execution_count": 20,
   "id": "74d7bd1b",
   "metadata": {},
   "outputs": [
    {
     "data": {
      "text/plain": [
       "<matplotlib.image.AxesImage at 0x1e50cd0b790>"
      ]
     },
     "execution_count": 20,
     "metadata": {},
     "output_type": "execute_result"
    },
    {
     "data": {
      "image/png": "[encoded data removed]",
      "text/plain": [
       "<Figure size 640x480 with 1 Axes>"
      ]
     },
     "metadata": {},
     "output_type": "display_data"
    }
   ],
   "source": [
    "plt.imshow(img)"
   ]
  },
  {
   "cell_type": "code",
   "execution_count": 21,
   "id": "69c96e71",
   "metadata": {},
   "outputs": [
    {
     "data": {
      "text/plain": [
       "0.0"
      ]
     },
     "execution_count": 21,
     "metadata": {},
     "output_type": "execute_result"
    }
   ],
   "source": [
    "img.numpy().min() "
   ]
  },
  {
   "cell_type": "code",
   "execution_count": 22,
   "id": "8df348c5",
   "metadata": {},
   "outputs": [
    {
     "data": {
      "text/plain": [
       "<tf.Tensor: shape=(171,), dtype=float32, numpy=\n",
       "array([0., 0., 0., 0., 0., 0., 0., 0., 0., 0., 0., 0., 0., 0., 0., 0., 0.,\n",
       "       0., 0., 0., 0., 0., 0., 0., 0., 0., 0., 0., 0., 0., 0., 0., 0., 0.,\n",
       "       0., 0., 0., 0., 0., 0., 0., 0., 0., 0., 0., 0., 0., 0., 0., 0., 0.,\n",
       "       0., 0., 0., 0., 0., 0., 0., 0., 0., 0., 0., 0., 0., 0., 0., 0., 0.,\n",
       "       0., 0., 0., 0., 0., 0., 0., 0., 0., 0., 0., 0., 0., 0., 0., 0., 0.,\n",
       "       0., 0., 0., 0., 0., 0., 0., 0., 0., 0., 0., 0., 0., 0., 0., 0., 0.,\n",
       "       0., 0., 0., 0., 0., 0., 0., 0., 0., 0., 0., 0., 0., 0., 0., 0., 0.,\n",
       "       0., 0., 0., 0., 0., 0., 0., 0., 0., 0., 0., 0., 0., 0., 0., 0., 0.,\n",
       "       0., 0., 0., 0., 0., 0., 0., 0., 0., 0., 0., 0., 0., 0., 0., 0., 0.,\n",
       "       0., 0., 0., 0., 0., 0., 0., 0., 0., 0., 0., 0., 0., 0., 0., 0., 0.,\n",
       "       0.], dtype=float32)>"
      ]
     },
     "execution_count": 22,
     "metadata": {},
     "output_type": "execute_result"
    }
   ],
   "source": [
    "tf.zeros(len(anchor))"
   ]
  },
  {
   "cell_type": "code",
   "execution_count": 23,
   "id": "8fae4025",
   "metadata": {},
   "outputs": [
    {
     "data": {
      "text/plain": [
       "<tf.Tensor: shape=(171,), dtype=float32, numpy=\n",
       "array([1., 1., 1., 1., 1., 1., 1., 1., 1., 1., 1., 1., 1., 1., 1., 1., 1.,\n",
       "       1., 1., 1., 1., 1., 1., 1., 1., 1., 1., 1., 1., 1., 1., 1., 1., 1.,\n",
       "       1., 1., 1., 1., 1., 1., 1., 1., 1., 1., 1., 1., 1., 1., 1., 1., 1.,\n",
       "       1., 1., 1., 1., 1., 1., 1., 1., 1., 1., 1., 1., 1., 1., 1., 1., 1.,\n",
       "       1., 1., 1., 1., 1., 1., 1., 1., 1., 1., 1., 1., 1., 1., 1., 1., 1.,\n",
       "       1., 1., 1., 1., 1., 1., 1., 1., 1., 1., 1., 1., 1., 1., 1., 1., 1.,\n",
       "       1., 1., 1., 1., 1., 1., 1., 1., 1., 1., 1., 1., 1., 1., 1., 1., 1.,\n",
       "       1., 1., 1., 1., 1., 1., 1., 1., 1., 1., 1., 1., 1., 1., 1., 1., 1.,\n",
       "       1., 1., 1., 1., 1., 1., 1., 1., 1., 1., 1., 1., 1., 1., 1., 1., 1.,\n",
       "       1., 1., 1., 1., 1., 1., 1., 1., 1., 1., 1., 1., 1., 1., 1., 1., 1.,\n",
       "       1.], dtype=float32)>"
      ]
     },
     "execution_count": 23,
     "metadata": {},
     "output_type": "execute_result"
    }
   ],
   "source": [
    "tf.ones(len(anchor))"
   ]
  },
  {
   "cell_type": "code",
   "execution_count": 24,
   "id": "412225ae",
   "metadata": {},
   "outputs": [],
   "source": [
    "class_labels=tf.data.Dataset.from_tensor_slices(tf.zeros(len(anchor)))"
   ]
  },
  {
   "cell_type": "code",
   "execution_count": 25,
   "id": "3d566ee3",
   "metadata": {},
   "outputs": [],
   "source": [
    "iterator_labs=class_labels.as_numpy_iterator()"
   ]
  },
  {
   "cell_type": "code",
   "execution_count": 26,
   "id": "6bb2314c",
   "metadata": {},
   "outputs": [
    {
     "data": {
      "text/plain": [
       "0.0"
      ]
     },
     "execution_count": 26,
     "metadata": {},
     "output_type": "execute_result"
    }
   ],
   "source": [
    "#looping though the labels\n",
    "iterator_labs.next()"
   ]
  },
  {
   "cell_type": "code",
   "execution_count": 27,
   "id": "68a3a3d0",
   "metadata": {},
   "outputs": [],
   "source": [
    "#create labeled dataset\n",
    "#labels to take a positive and negative class\n",
    "#(anchor, positive)=>1,1,1,1,1\n",
    "#(anchor, negative)=>0,0,0,0,0\n",
    "#these are different directories  for labeled positives 1 for positive recognition and 0 for negative/unindetification\n",
    "positives = tf.data.Dataset.zip((anchor, positive, tf.data.Dataset.from_tensor_slices(tf.ones(len(anchor)))))\n",
    "negatives = tf.data.Dataset.zip((anchor, negative, tf.data.Dataset.from_tensor_slices(tf.zeros(len(anchor)))))\n",
    "data = positives.concatenate(negatives)\n"
   ]
  },
  {
   "cell_type": "code",
   "execution_count": 28,
   "id": "25efad4c",
   "metadata": {},
   "outputs": [],
   "source": [
    "samples=data.as_numpy_iterator()"
   ]
  },
  {
   "cell_type": "code",
   "execution_count": 29,
   "id": "7633eeb9",
   "metadata": {},
   "outputs": [],
   "source": [
    "example=samples.next()"
   ]
  },
  {
   "cell_type": "code",
   "execution_count": 30,
   "id": "725eba50",
   "metadata": {},
   "outputs": [],
   "source": [
    "#Build train and test partition\n",
    "\n",
    "def preprocess_twin(input_img, validation_img, label):\n",
    "    return(preprocess(input_img), preprocess(validation_img), label)"
   ]
  },
  {
   "cell_type": "code",
   "execution_count": 31,
   "id": "1089debb",
   "metadata": {},
   "outputs": [],
   "source": [
    "res = preprocess_twin(*example)"
   ]
  },
  {
   "cell_type": "code",
   "execution_count": 32,
   "id": "e5b348ed",
   "metadata": {},
   "outputs": [
    {
     "data": {
      "text/plain": [
       "(b'data\\\\anchor\\\\89736cea-7e28-11ee-9620-0090a2cf62d8.jpg',\n",
       " b'data\\\\positive\\\\4121c247-7e26-11ee-9106-0090a2cf62d8 - Copy.jpg',\n",
       " 1.0)"
      ]
     },
     "execution_count": 32,
     "metadata": {},
     "output_type": "execute_result"
    }
   ],
   "source": [
    "example"
   ]
  },
  {
   "cell_type": "code",
   "execution_count": 33,
   "id": "5896661d",
   "metadata": {},
   "outputs": [
    {
     "data": {
      "text/plain": [
       "(<tf.Tensor: shape=(100, 100, 3), dtype=float32, numpy=\n",
       " array([[[0.6666667 , 0.78357846, 0.7921569 ],\n",
       "         [0.6504902 , 0.76740193, 0.7759804 ],\n",
       "         [0.6627451 , 0.7762255 , 0.7862745 ],\n",
       "         ...,\n",
       "         [0.62058824, 0.72156864, 0.7088235 ],\n",
       "         [0.63235295, 0.72818625, 0.7227941 ],\n",
       "         [0.6340686 , 0.7203431 , 0.71813726]],\n",
       " \n",
       "        [[0.64191175, 0.7752451 , 0.77916664],\n",
       "         [0.6507353 , 0.78406864, 0.7879902 ],\n",
       "         [0.64215684, 0.7754902 , 0.7794118 ],\n",
       "         ...,\n",
       "         [0.64191175, 0.73651963, 0.7129902 ],\n",
       "         [0.62941176, 0.73137254, 0.6982843 ],\n",
       "         [0.6247549 , 0.7245098 , 0.69142157]],\n",
       " \n",
       "        [[0.6573529 , 0.78186274, 0.79264706],\n",
       "         [0.64436275, 0.7776961 , 0.7855392 ],\n",
       "         [0.6382353 , 0.77156866, 0.7754902 ],\n",
       "         ...,\n",
       "         [0.6188725 , 0.7379902 , 0.7235294 ],\n",
       "         [0.6107843 , 0.7348039 , 0.7137255 ],\n",
       "         [0.597549  , 0.7289216 , 0.702451  ]],\n",
       " \n",
       "        ...,\n",
       " \n",
       "        [[0.04803922, 0.04901961, 0.0382353 ],\n",
       "         [0.04779412, 0.05171569, 0.03210784],\n",
       "         [0.05196078, 0.05588235, 0.03627451],\n",
       "         ...,\n",
       "         [0.07450981, 0.08627451, 0.05882353],\n",
       "         [0.08308823, 0.09093137, 0.07132353],\n",
       "         [0.08259804, 0.09044117, 0.07083333]],\n",
       " \n",
       "        [[0.04705882, 0.04705882, 0.03921569],\n",
       "         [0.05      , 0.05      , 0.04215686],\n",
       "         [0.05      , 0.05      , 0.04215686],\n",
       "         ...,\n",
       "         [0.07745098, 0.08921569, 0.06176471],\n",
       "         [0.08137255, 0.08921569, 0.06960785],\n",
       "         [0.07745098, 0.08235294, 0.0627451 ]],\n",
       " \n",
       "        [[0.05098039, 0.05490196, 0.03529412],\n",
       "         [0.04411765, 0.04803922, 0.02843137],\n",
       "         [0.04313726, 0.04313726, 0.03529412],\n",
       "         ...,\n",
       "         [0.07230392, 0.08112745, 0.05955882],\n",
       "         [0.07328431, 0.08504902, 0.05759804],\n",
       "         [0.08259804, 0.08651961, 0.05857843]]], dtype=float32)>,\n",
       " <tf.Tensor: shape=(100, 100, 3), dtype=float32, numpy=\n",
       " array([[[0.65392154, 0.7882353 , 0.79313725],\n",
       "         [0.6615196 , 0.8007353 , 0.80269605],\n",
       "         [0.64240193, 0.78406864, 0.7852941 ],\n",
       "         ...,\n",
       "         [0.5897059 , 0.7269608 , 0.6987745 ],\n",
       "         [0.60759807, 0.74289215, 0.71838236],\n",
       "         [0.6007353 , 0.7375    , 0.7129902 ]],\n",
       " \n",
       "        [[0.65343136, 0.7943627 , 0.7948529 ],\n",
       "         [0.6517157 , 0.785049  , 0.7848039 ],\n",
       "         [0.66789216, 0.7894608 , 0.7982843 ],\n",
       "         ...,\n",
       "         [0.6039216 , 0.71960783, 0.6990196 ],\n",
       "         [0.6102941 , 0.7318627 , 0.7004902 ],\n",
       "         [0.58455884, 0.7139706 , 0.6786765 ]],\n",
       " \n",
       "        [[0.6632353 , 0.79656863, 0.8014706 ],\n",
       "         [0.6693627 , 0.80269605, 0.80759805],\n",
       "         [0.6526961 , 0.7860294 , 0.7884804 ],\n",
       "         ...,\n",
       "         [0.60245097, 0.722549  , 0.6997549 ],\n",
       "         [0.59044117, 0.7198529 , 0.68602943],\n",
       "         [0.58259803, 0.7237745 , 0.6845588 ]],\n",
       " \n",
       "        ...,\n",
       " \n",
       "        [[0.08627451, 0.09803922, 0.06470589],\n",
       "         [0.08039216, 0.09215686, 0.06470589],\n",
       "         [0.07156863, 0.08333334, 0.05588235],\n",
       "         ...,\n",
       "         [0.0627451 , 0.06666667, 0.04313726],\n",
       "         [0.0627451 , 0.06666667, 0.04313726],\n",
       "         [0.06372549, 0.06764706, 0.04705882]],\n",
       " \n",
       "        [[0.07352941, 0.08529412, 0.05      ],\n",
       "         [0.06666667, 0.07843138, 0.05098039],\n",
       "         [0.06666667, 0.07843138, 0.05098039],\n",
       "         ...,\n",
       "         [0.06176471, 0.06568628, 0.04215686],\n",
       "         [0.05490196, 0.05882353, 0.03529412],\n",
       "         [0.05882353, 0.0627451 , 0.04313726]],\n",
       " \n",
       "        [[0.07352941, 0.07941177, 0.04705882],\n",
       "         [0.07352941, 0.07941177, 0.04901961],\n",
       "         [0.06960785, 0.0754902 , 0.05098039],\n",
       "         ...,\n",
       "         [0.05808824, 0.0620098 , 0.03259804],\n",
       "         [0.05490196, 0.05882353, 0.03529412],\n",
       "         [0.05882353, 0.0627451 , 0.03946079]]], dtype=float32)>,\n",
       " 1.0)"
      ]
     },
     "execution_count": 33,
     "metadata": {},
     "output_type": "execute_result"
    }
   ],
   "source": [
    "res\n",
    "#ist to the preprocessed image"
   ]
  },
  {
   "cell_type": "code",
   "execution_count": 34,
   "id": "aac3da0c",
   "metadata": {},
   "outputs": [
    {
     "data": {
      "text/plain": [
       "<matplotlib.image.AxesImage at 0x1e50ce18a90>"
      ]
     },
     "execution_count": 34,
     "metadata": {},
     "output_type": "execute_result"
    },
    {
     "data": {
      "image/png": "[encoded data removed]",
      "text/plain": [
       "<Figure size 640x480 with 1 Axes>"
      ]
     },
     "metadata": {},
     "output_type": "display_data"
    }
   ],
   "source": [
    "plt.imshow(res[1])"
   ]
  },
  {
   "cell_type": "code",
   "execution_count": 35,
   "id": "704a5f85",
   "metadata": {},
   "outputs": [],
   "source": [
    "#building a data loader pipeline\n",
    "# Build dataloader pipeline\n",
    "data = data.map(preprocess_twin)\n",
    "data = data.cache()\n",
    "data = data.shuffle(buffer_size=10000)"
   ]
  },
  {
   "cell_type": "code",
   "execution_count": 36,
   "id": "2f789e53",
   "metadata": {},
   "outputs": [],
   "source": [
    "samples=data.as_numpy_iterator()"
   ]
  },
  {
   "cell_type": "code",
   "execution_count": 37,
   "id": "150e52b5",
   "metadata": {},
   "outputs": [
    {
     "data": {
      "text/plain": [
       "(array([[[0.7362745 , 0.89411765, 0.9019608 ],\n",
       "         [0.7367647 , 0.89362746, 0.9014706 ],\n",
       "         [0.7416667 , 0.89656866, 0.8995098 ],\n",
       "         ...,\n",
       "         [0.68235296, 0.8328431 , 0.8061274 ],\n",
       "         [0.7022059 , 0.84411764, 0.8303922 ],\n",
       "         [0.68333334, 0.8252451 , 0.8115196 ]],\n",
       " \n",
       "        [[0.74019605, 0.88039213, 0.89509803],\n",
       "         [0.75784314, 0.8892157 , 0.9078431 ],\n",
       "         [0.7632353 , 0.8867647 , 0.90637255],\n",
       "         ...,\n",
       "         [0.6931372 , 0.83480394, 0.8090686 ],\n",
       "         [0.69264704, 0.83137256, 0.8134804 ],\n",
       "         [0.68357843, 0.82230395, 0.80441177]],\n",
       " \n",
       "        [[0.7375    , 0.8835784 , 0.8963235 ],\n",
       "         [0.7529412 , 0.8990196 , 0.9117647 ],\n",
       "         [0.73088235, 0.88039213, 0.89191175],\n",
       "         ...,\n",
       "         [0.69460785, 0.83480394, 0.81715685],\n",
       "         [0.6870098 , 0.8272059 , 0.81102943],\n",
       "         [0.6813725 , 0.8215686 , 0.80539215]],\n",
       " \n",
       "        ...,\n",
       " \n",
       "        [[0.09509804, 0.10686275, 0.07156863],\n",
       "         [0.09411765, 0.10588235, 0.07058824],\n",
       "         [0.09117647, 0.10294118, 0.0754902 ],\n",
       "         ...,\n",
       "         [0.09019608, 0.09411765, 0.07058824],\n",
       "         [0.08995098, 0.09387255, 0.07034314],\n",
       "         [0.09240196, 0.09632353, 0.07279412]],\n",
       " \n",
       "        [[0.09093137, 0.10269608, 0.0752451 ],\n",
       "         [0.09019608, 0.10196079, 0.07450981],\n",
       "         [0.09142157, 0.10318627, 0.07573529],\n",
       "         ...,\n",
       "         [0.08406863, 0.08799019, 0.06446078],\n",
       "         [0.07671569, 0.08063725, 0.05710784],\n",
       "         [0.07745098, 0.08137255, 0.05784314]],\n",
       " \n",
       "        [[0.08995098, 0.10171568, 0.07426471],\n",
       "         [0.08602941, 0.09779412, 0.07034314],\n",
       "         [0.08504902, 0.09681372, 0.06151961],\n",
       "         ...,\n",
       "         [0.08995098, 0.09387255, 0.07034314],\n",
       "         [0.08602941, 0.08995098, 0.06642157],\n",
       "         [0.08529412, 0.08921569, 0.06568628]]], dtype=float32),\n",
       " array([[[0.7732843 , 0.9232843 , 0.91593134],\n",
       "         [0.7703431 , 0.92034316, 0.91544116],\n",
       "         [0.7830882 , 0.91838235, 0.9193627 ],\n",
       "         ...,\n",
       "         [0.74828434, 0.8512255 , 0.85514706],\n",
       "         [0.75465685, 0.8607843 , 0.85514706],\n",
       "         [0.74485296, 0.845098  , 0.8394608 ]],\n",
       " \n",
       "        [[0.7865196 , 0.9102941 , 0.91740197],\n",
       "         [0.77818626, 0.9115196 , 0.907598  ],\n",
       "         [0.77818626, 0.922549  , 0.89730394],\n",
       "         ...,\n",
       "         [0.73382354, 0.8607843 , 0.83480394],\n",
       "         [0.7296569 , 0.85563725, 0.82990193],\n",
       "         [0.73137254, 0.85245097, 0.82916665]],\n",
       " \n",
       "        [[0.782598  , 0.9237745 , 0.9080882 ],\n",
       "         [0.7642157 , 0.90539217, 0.89754903],\n",
       "         [0.7801471 , 0.9134804 , 0.9115196 ],\n",
       "         ...,\n",
       "         [0.7370098 , 0.8485294 , 0.8335784 ],\n",
       "         [0.7264706 , 0.83137256, 0.8186275 ],\n",
       "         [0.73946077, 0.84142154, 0.82965684]],\n",
       " \n",
       "        ...,\n",
       " \n",
       "        [[0.1245098 , 0.14019608, 0.08529412],\n",
       "         [0.12156863, 0.13333334, 0.09019608],\n",
       "         [0.11764706, 0.12941177, 0.09411765],\n",
       "         ...,\n",
       "         [0.08921569, 0.10098039, 0.06568628],\n",
       "         [0.09411765, 0.09803922, 0.06666667],\n",
       "         [0.09044117, 0.09436274, 0.0629902 ]],\n",
       " \n",
       "        [[0.11764706, 0.13333334, 0.07843138],\n",
       "         [0.11666667, 0.12843138, 0.08529412],\n",
       "         [0.11838235, 0.13014705, 0.0870098 ],\n",
       "         ...,\n",
       "         [0.08235294, 0.09411765, 0.06666667],\n",
       "         [0.07426471, 0.08602941, 0.05857843],\n",
       "         [0.08137255, 0.09313726, 0.06568628]],\n",
       " \n",
       "        [[0.11372549, 0.12352941, 0.07156863],\n",
       "         [0.1127451 , 0.12254902, 0.07058824],\n",
       "         [0.12058824, 0.13039216, 0.07843138],\n",
       "         ...,\n",
       "         [0.0754902 , 0.0872549 , 0.05980392],\n",
       "         [0.08112745, 0.09289216, 0.06544118],\n",
       "         [0.07818627, 0.08995098, 0.0625    ]]], dtype=float32),\n",
       " 1.0)"
      ]
     },
     "execution_count": 37,
     "metadata": {},
     "output_type": "execute_result"
    }
   ],
   "source": [
    "samples.next()"
   ]
  },
  {
   "cell_type": "code",
   "execution_count": 38,
   "id": "59789771",
   "metadata": {},
   "outputs": [],
   "source": [
    "#negative image\n",
    "samp=samples.next()"
   ]
  },
  {
   "cell_type": "code",
   "execution_count": 39,
   "id": "a74256dd",
   "metadata": {},
   "outputs": [
    {
     "data": {
      "text/plain": [
       "<matplotlib.image.AxesImage at 0x1e50cbbdc00>"
      ]
     },
     "execution_count": 39,
     "metadata": {},
     "output_type": "execute_result"
    },
    {
     "data": {
      "image/png": "[encoded data removed]",
      "text/plain": [
       "<Figure size 640x480 with 1 Axes>"
      ]
     },
     "metadata": {},
     "output_type": "display_data"
    }
   ],
   "source": [
    "plt.imshow(samp[0])"
   ]
  },
  {
   "cell_type": "code",
   "execution_count": 40,
   "id": "88af4719",
   "metadata": {},
   "outputs": [
    {
     "data": {
      "text/plain": [
       "<matplotlib.image.AxesImage at 0x1e50cc39b40>"
      ]
     },
     "execution_count": 40,
     "metadata": {},
     "output_type": "execute_result"
    },
    {
     "data": {
      "image/png": "[encoded data removed]",
      "text/plain": [
       "<Figure size 640x480 with 1 Axes>"
      ]
     },
     "metadata": {},
     "output_type": "display_data"
    }
   ],
   "source": [
    "plt.imshow(samp[1])"
   ]
  },
  {
   "cell_type": "code",
   "execution_count": 41,
   "id": "b22773ba",
   "metadata": {},
   "outputs": [
    {
     "data": {
      "text/plain": [
       "0.0"
      ]
     },
     "execution_count": 41,
     "metadata": {},
     "output_type": "execute_result"
    }
   ],
   "source": [
    "samp[2]"
   ]
  },
  {
   "cell_type": "code",
   "execution_count": 42,
   "id": "96c80450",
   "metadata": {},
   "outputs": [
    {
     "data": {
      "text/plain": [
       "203"
      ]
     },
     "execution_count": 42,
     "metadata": {},
     "output_type": "execute_result"
    }
   ],
   "source": [
    "round(len(data)*.7)"
   ]
  },
  {
   "cell_type": "code",
   "execution_count": 43,
   "id": "8ff89514",
   "metadata": {},
   "outputs": [
    {
     "data": {
      "text/plain": [
       "87"
      ]
     },
     "execution_count": 43,
     "metadata": {},
     "output_type": "execute_result"
    }
   ],
   "source": [
    "round(len(data)*.3)"
   ]
  },
  {
   "cell_type": "code",
   "execution_count": 44,
   "id": "5f71bcf1",
   "metadata": {},
   "outputs": [],
   "source": [
    "# Training partition\n",
    "train_data = data.take(round(len(data)*.7))\n",
    "train_data = train_data.batch(16)\n",
    "train_data = train_data.prefetch(8)"
   ]
  },
  {
   "cell_type": "code",
   "execution_count": 45,
   "id": "dec8302d",
   "metadata": {},
   "outputs": [],
   "source": [
    "train_samples=train_data.as_numpy_iterator()"
   ]
  },
  {
   "cell_type": "code",
   "execution_count": 46,
   "id": "20986be1",
   "metadata": {},
   "outputs": [],
   "source": [
    "#testing partiotion\n",
    "test_data=data.skip(round(len(data)*.7))\n",
    "test_data=test_data.take(round(len(data)*.3))\n",
    "test_data = test_data.batch(16)\n",
    "test_data = test_data.prefetch(8)\n"
   ]
  },
  {
   "cell_type": "code",
   "execution_count": 47,
   "id": "c1a40de4",
   "metadata": {},
   "outputs": [],
   "source": [
    "inp = Input(shape=(100,100,3), name='input_image')"
   ]
  },
  {
   "cell_type": "code",
   "execution_count": 48,
   "id": "55558b47",
   "metadata": {},
   "outputs": [],
   "source": [
    "#CONVOLUTIONAL LAYER\n",
    "c1 = Conv2D(64, (10,10), activation='relu')(inp)"
   ]
  },
  {
   "cell_type": "code",
   "execution_count": 54,
   "id": "52ae927f",
   "metadata": {},
   "outputs": [
    {
     "data": {
      "text/plain": [
       "<KerasTensor: shape=(None, 91, 91, 64) dtype=float32 (created by layer 'conv2d')>"
      ]
     },
     "execution_count": 54,
     "metadata": {},
     "output_type": "execute_result"
    }
   ],
   "source": [
    "c1"
   ]
  },
  {
   "cell_type": "code",
   "execution_count": 49,
   "id": "c27c58dd",
   "metadata": {},
   "outputs": [],
   "source": [
    "#MAXPOOLING LAYER\n",
    "m1 = MaxPooling2D(64, (2,2), padding='same')(c1)"
   ]
  },
  {
   "cell_type": "code",
   "execution_count": 50,
   "id": "19d6fe15",
   "metadata": {},
   "outputs": [
    {
     "data": {
      "text/plain": [
       "<KerasTensor: shape=(None, 46, 46, 64) dtype=float32 (created by layer 'max_pooling2d')>"
      ]
     },
     "execution_count": 50,
     "metadata": {},
     "output_type": "execute_result"
    }
   ],
   "source": [
    "m1"
   ]
  },
  {
   "cell_type": "code",
   "execution_count": 51,
   "id": "1b3c5bfc",
   "metadata": {},
   "outputs": [],
   "source": [
    "c2 = Conv2D(128, (7,7), activation='relu')(m1)\n",
    "m2 = MaxPooling2D(64, (2,2), padding='same')(c2)"
   ]
  },
  {
   "cell_type": "code",
   "execution_count": 52,
   "id": "d9207b34",
   "metadata": {},
   "outputs": [
    {
     "data": {
      "text/plain": [
       "<KerasTensor: shape=(None, 40, 40, 128) dtype=float32 (created by layer 'conv2d_1')>"
      ]
     },
     "execution_count": 52,
     "metadata": {},
     "output_type": "execute_result"
    }
   ],
   "source": [
    "c2\n"
   ]
  },
  {
   "cell_type": "code",
   "execution_count": 53,
   "id": "43a4af68",
   "metadata": {},
   "outputs": [],
   "source": [
    "c3 = Conv2D(128, (4,4), activation='relu')(m2)\n",
    "m3 = MaxPooling2D(64, (2,2), padding='same')(c3)"
   ]
  },
  {
   "cell_type": "code",
   "execution_count": 54,
   "id": "2fe498ff",
   "metadata": {},
   "outputs": [
    {
     "data": {
      "text/plain": [
       "<KerasTensor: shape=(None, 17, 17, 128) dtype=float32 (created by layer 'conv2d_2')>"
      ]
     },
     "execution_count": 54,
     "metadata": {},
     "output_type": "execute_result"
    }
   ],
   "source": [
    "c3"
   ]
  },
  {
   "cell_type": "markdown",
   "id": "54d9a6e5",
   "metadata": {},
   "source": [
    "c2 "
   ]
  },
  {
   "cell_type": "code",
   "execution_count": 55,
   "id": "16a3286d",
   "metadata": {},
   "outputs": [],
   "source": [
    "c4 = Conv2D(256, (4,4), activation='relu')(m3)\n",
    "f1 = Flatten()(c4)\n",
    "d1 = Dense(4096, activation='sigmoid')(f1)"
   ]
  },
  {
   "cell_type": "code",
   "execution_count": 56,
   "id": "76dbde5e",
   "metadata": {},
   "outputs": [
    {
     "data": {
      "text/plain": [
       "<KerasTensor: shape=(None, 6, 6, 256) dtype=float32 (created by layer 'conv2d_3')>"
      ]
     },
     "execution_count": 56,
     "metadata": {},
     "output_type": "execute_result"
    }
   ],
   "source": [
    "c4"
   ]
  },
  {
   "cell_type": "code",
   "execution_count": 57,
   "id": "7a4f9c90",
   "metadata": {},
   "outputs": [],
   "source": [
    "mod = Model(inputs=[inp], outputs=[d1], name='embedding')"
   ]
  },
  {
   "cell_type": "code",
   "execution_count": 58,
   "id": "05aee3d0",
   "metadata": {},
   "outputs": [
    {
     "data": {
      "text/plain": [
       "<keras.src.engine.functional.Functional at 0x1e50d0f16f0>"
      ]
     },
     "execution_count": 58,
     "metadata": {},
     "output_type": "execute_result"
    }
   ],
   "source": [
    "mod"
   ]
  },
  {
   "cell_type": "markdown",
   "id": "a9effe8b",
   "metadata": {},
   "source": []
  },
  {
   "cell_type": "markdown",
   "id": "efbd6208",
   "metadata": {},
   "source": [
    "mod"
   ]
  },
  {
   "cell_type": "code",
   "execution_count": 59,
   "id": "eee12862",
   "metadata": {},
   "outputs": [],
   "source": [
    "c3 = Conv2D(128, (4,4), activation='relu')(m2)\n",
    "m3 = MaxPooling2D(64, (2,2), padding='same')(c3)"
   ]
  },
  {
   "cell_type": "code",
   "execution_count": 60,
   "id": "952f86c4",
   "metadata": {},
   "outputs": [
    {
     "name": "stdout",
     "output_type": "stream",
     "text": [
      "Model: \"embedding\"\n",
      "_________________________________________________________________\n",
      " Layer (type)                Output Shape              Param #   \n",
      "=================================================================\n",
      " input_image (InputLayer)    [(None, 100, 100, 3)]     0         \n",
      "                                                                 \n",
      " conv2d (Conv2D)             (None, 91, 91, 64)        19264     \n",
      "                                                                 \n",
      " max_pooling2d (MaxPooling2  (None, 46, 46, 64)        0         \n",
      " D)                                                              \n",
      "                                                                 \n",
      " conv2d_1 (Conv2D)           (None, 40, 40, 128)       401536    \n",
      "                                                                 \n",
      " max_pooling2d_1 (MaxPoolin  (None, 20, 20, 128)       0         \n",
      " g2D)                                                            \n",
      "                                                                 \n",
      " conv2d_2 (Conv2D)           (None, 17, 17, 128)       262272    \n",
      "                                                                 \n",
      " max_pooling2d_2 (MaxPoolin  (None, 9, 9, 128)         0         \n",
      " g2D)                                                            \n",
      "                                                                 \n",
      " conv2d_3 (Conv2D)           (None, 6, 6, 256)         524544    \n",
      "                                                                 \n",
      " flatten (Flatten)           (None, 9216)              0         \n",
      "                                                                 \n",
      " dense (Dense)               (None, 4096)              37752832  \n",
      "                                                                 \n",
      "=================================================================\n",
      "Total params: 38960448 (148.62 MB)\n",
      "Trainable params: 38960448 (148.62 MB)\n",
      "Non-trainable params: 0 (0.00 Byte)\n",
      "_________________________________________________________________\n"
     ]
    }
   ],
   "source": [
    "mod.summary()"
   ]
  },
  {
   "cell_type": "markdown",
   "id": "1ae2e30c",
   "metadata": {},
   "source": [
    "mod"
   ]
  },
  {
   "cell_type": "code",
   "execution_count": 61,
   "id": "a5263901",
   "metadata": {},
   "outputs": [],
   "source": [
    "#BUILDING A SIAMESE NEURAL NETWORK\n",
    "def make_embedding(): \n",
    "    inp = Input(shape=(100,100,3), name='input_image')\n",
    "    \n",
    "    # First block\n",
    "    c1 = Conv2D(64, (10,10), activation='relu')(inp)\n",
    "    m1 = MaxPooling2D(64, (2,2), padding='same')(c1)\n",
    "    \n",
    "    # Second block\n",
    "    c2 = Conv2D(128, (7,7), activation='relu')(m1)\n",
    "    m2 = MaxPooling2D(64, (2,2), padding='same')(c2)\n",
    "    \n",
    "    # Third block \n",
    "    c3 = Conv2D(128, (4,4), activation='relu')(m2)\n",
    "    m3 = MaxPooling2D(64, (2,2), padding='same')(c3)\n",
    "    \n",
    "    # Final embedding block\n",
    "    c4 = Conv2D(256, (4,4), activation='relu')(m3)\n",
    "    f1 = Flatten()(c4)\n",
    "    d1 = Dense(4096, activation='sigmoid')(f1)\n",
    "    \n",
    "    \n",
    "    return Model(inputs=[inp], outputs=[d1], name='embedding')"
   ]
  },
  {
   "cell_type": "code",
   "execution_count": 62,
   "id": "b338eef0",
   "metadata": {},
   "outputs": [],
   "source": [
    "embedding=make_embedding()"
   ]
  },
  {
   "cell_type": "code",
   "execution_count": 63,
   "id": "87ddc08f",
   "metadata": {},
   "outputs": [
    {
     "name": "stdout",
     "output_type": "stream",
     "text": [
      "Model: \"embedding\"\n",
      "_________________________________________________________________\n",
      " Layer (type)                Output Shape              Param #   \n",
      "=================================================================\n",
      " input_image (InputLayer)    [(None, 100, 100, 3)]     0         \n",
      "                                                                 \n",
      " conv2d_5 (Conv2D)           (None, 91, 91, 64)        19264     \n",
      "                                                                 \n",
      " max_pooling2d_4 (MaxPoolin  (None, 46, 46, 64)        0         \n",
      " g2D)                                                            \n",
      "                                                                 \n",
      " conv2d_6 (Conv2D)           (None, 40, 40, 128)       401536    \n",
      "                                                                 \n",
      " max_pooling2d_5 (MaxPoolin  (None, 20, 20, 128)       0         \n",
      " g2D)                                                            \n",
      "                                                                 \n",
      " conv2d_7 (Conv2D)           (None, 17, 17, 128)       262272    \n",
      "                                                                 \n",
      " max_pooling2d_6 (MaxPoolin  (None, 9, 9, 128)         0         \n",
      " g2D)                                                            \n",
      "                                                                 \n",
      " conv2d_8 (Conv2D)           (None, 6, 6, 256)         524544    \n",
      "                                                                 \n",
      " flatten_1 (Flatten)         (None, 9216)              0         \n",
      "                                                                 \n",
      " dense_1 (Dense)             (None, 4096)              37752832  \n",
      "                                                                 \n",
      "=================================================================\n",
      "Total params: 38960448 (148.62 MB)\n",
      "Trainable params: 38960448 (148.62 MB)\n",
      "Non-trainable params: 0 (0.00 Byte)\n",
      "_________________________________________________________________\n"
     ]
    }
   ],
   "source": [
    "embedding.summary()"
   ]
  },
  {
   "cell_type": "code",
   "execution_count": 64,
   "id": "9ee97018",
   "metadata": {},
   "outputs": [],
   "source": [
    "#BUILDING A DISTANCE LAYER "
   ]
  },
  {
   "cell_type": "code",
   "execution_count": 65,
   "id": "470b55ab",
   "metadata": {},
   "outputs": [],
   "source": [
    "# Siamese L1 Distance class\n",
    "class L1Dist(Layer):\n",
    "    \n",
    "    # Init method - inheritance\n",
    "    #working with specific layers\n",
    "    def __init__(self, **kwargs):\n",
    "        super().__init__()\n",
    "       \n",
    "    # Magic happens here - similarity calculation\n",
    "    def call(self, input_embedding, validation_embedding):\n",
    "        return tf.math.abs(input_embedding - validation_embedding)"
   ]
  },
  {
   "cell_type": "code",
   "execution_count": 66,
   "id": "e1837a68",
   "metadata": {},
   "outputs": [],
   "source": [
    "l1 = L1Dist()"
   ]
  },
  {
   "cell_type": "code",
   "execution_count": 67,
   "id": "febfdc37",
   "metadata": {},
   "outputs": [
    {
     "data": {
      "text/plain": [
       "<__main__.L1Dist at 0x1e50d117ee0>"
      ]
     },
     "execution_count": 67,
     "metadata": {},
     "output_type": "execute_result"
    }
   ],
   "source": [
    "l1"
   ]
  },
  {
   "cell_type": "code",
   "execution_count": 68,
   "id": "d42d8c9a",
   "metadata": {},
   "outputs": [
    {
     "ename": "NameError",
     "evalue": "name 'anchor_embedding' is not defined",
     "output_type": "error",
     "traceback": [
      "\u001b[1;31m---------------------------------------------------------------------------\u001b[0m",
      "\u001b[1;31mNameError\u001b[0m                                 Traceback (most recent call last)",
      "Cell \u001b[1;32mIn[68], line 1\u001b[0m\n\u001b[1;32m----> 1\u001b[0m l1(\u001b[43manchor_embedding\u001b[49m, validation_embedding)\n",
      "\u001b[1;31mNameError\u001b[0m: name 'anchor_embedding' is not defined"
     ]
    }
   ],
   "source": [
    "l1(anchor_embedding, validation_embedding)\n"
   ]
  },
  {
   "cell_type": "code",
   "execution_count": 69,
   "id": "20700a58",
   "metadata": {},
   "outputs": [],
   "source": [
    "input_image = Input(name='input_img', shape=(100,100,3))\n",
    "validation_image = Input(name='validation_img', shape=(100,100,3))"
   ]
  },
  {
   "cell_type": "code",
   "execution_count": 70,
   "id": "c87112f2",
   "metadata": {},
   "outputs": [],
   "source": [
    "inp_embedding = embedding(input_image)\n",
    "val_embedding = embedding(validation_image)"
   ]
  },
  {
   "cell_type": "code",
   "execution_count": 71,
   "id": "b62fa074",
   "metadata": {},
   "outputs": [
    {
     "data": {
      "text/plain": [
       "<KerasTensor: shape=(None, 4096) dtype=float32 (created by layer 'embedding')>"
      ]
     },
     "execution_count": 71,
     "metadata": {},
     "output_type": "execute_result"
    }
   ],
   "source": [
    "inp_embedding"
   ]
  },
  {
   "cell_type": "code",
   "execution_count": 72,
   "id": "f6db3b70",
   "metadata": {},
   "outputs": [
    {
     "data": {
      "text/plain": [
       "<KerasTensor: shape=(None, 4096) dtype=float32 (created by layer 'embedding')>"
      ]
     },
     "execution_count": 72,
     "metadata": {},
     "output_type": "execute_result"
    }
   ],
   "source": [
    "embedding(input_image)"
   ]
  },
  {
   "cell_type": "code",
   "execution_count": 73,
   "id": "b24a8769",
   "metadata": {},
   "outputs": [],
   "source": [
    "siamese_layer = L1Dist()#will take 2 inputs (inp_embedding and val_embedding)"
   ]
  },
  {
   "cell_type": "code",
   "execution_count": 74,
   "id": "b6444767",
   "metadata": {},
   "outputs": [],
   "source": [
    "distances=siamese_layer(inp_embedding, val_embedding)"
   ]
  },
  {
   "cell_type": "code",
   "execution_count": 75,
   "id": "4f2dc396",
   "metadata": {},
   "outputs": [],
   "source": [
    "classifier = Dense(1, activation='sigmoid')(distances)"
   ]
  },
  {
   "cell_type": "code",
   "execution_count": 76,
   "id": "314c7e86",
   "metadata": {},
   "outputs": [
    {
     "data": {
      "text/plain": [
       "<KerasTensor: shape=(None, 1) dtype=float32 (created by layer 'dense_2')>"
      ]
     },
     "execution_count": 76,
     "metadata": {},
     "output_type": "execute_result"
    }
   ],
   "source": [
    "classifier"
   ]
  },
  {
   "cell_type": "code",
   "execution_count": 77,
   "id": "919a3a6d",
   "metadata": {},
   "outputs": [],
   "source": [
    "siamese_network = Model(inputs=[input_image, validation_image], outputs=classifier, name=\"Siamese Network\")"
   ]
  },
  {
   "cell_type": "code",
   "execution_count": 78,
   "id": "6aee18eb",
   "metadata": {
    "scrolled": true
   },
   "outputs": [
    {
     "name": "stdout",
     "output_type": "stream",
     "text": [
      "Model: \"Siamese Network\"\n",
      "__________________________________________________________________________________________________\n",
      " Layer (type)                Output Shape                 Param #   Connected to                  \n",
      "==================================================================================================\n",
      " input_img (InputLayer)      [(None, 100, 100, 3)]        0         []                            \n",
      "                                                                                                  \n",
      " validation_img (InputLayer  [(None, 100, 100, 3)]        0         []                            \n",
      " )                                                                                                \n",
      "                                                                                                  \n",
      " embedding (Functional)      (None, 4096)                 3896044   ['input_img[0][0]',           \n",
      "                                                          8          'validation_img[0][0]']      \n",
      "                                                                                                  \n",
      " l1_dist_1 (L1Dist)          (None, 4096)                 0         ['embedding[0][0]',           \n",
      "                                                                     'embedding[1][0]']           \n",
      "                                                                                                  \n",
      " dense_2 (Dense)             (None, 1)                    4097      ['l1_dist_1[0][0]']           \n",
      "                                                                                                  \n",
      "==================================================================================================\n",
      "Total params: 38964545 (148.64 MB)\n",
      "Trainable params: 38964545 (148.64 MB)\n",
      "Non-trainable params: 0 (0.00 Byte)\n",
      "__________________________________________________________________________________________________\n"
     ]
    }
   ],
   "source": [
    "siamese_network.summary()"
   ]
  },
  {
   "cell_type": "code",
   "execution_count": 79,
   "id": "bb4ed19f",
   "metadata": {},
   "outputs": [],
   "source": [
    "#MAKING SIAMESE MODEL\n",
    "def make_siamese_model(): \n",
    "    \n",
    "    # Anchor image input in the network\n",
    "    input_image = Input(name='input_img', shape=(100,100,3))\n",
    "    \n",
    "    # Validation image in the network \n",
    "    validation_image = Input(name='validation_img', shape=(100,100,3))\n",
    "    \n",
    "    # Combine siamese distance components\n",
    "    siamese_layer = L1Dist()\n",
    "    siamese_layer._name = 'distance'\n",
    "    distances = siamese_layer(embedding(input_image), embedding(validation_image))\n",
    "    \n",
    "    # Classification layer \n",
    "    classifier = Dense(1, activation='sigmoid')(distances)\n",
    "    \n",
    "    return Model(inputs=[input_image, validation_image], outputs=classifier, name='SiameseNetwork')"
   ]
  },
  {
   "cell_type": "code",
   "execution_count": 80,
   "id": "35647bb6",
   "metadata": {},
   "outputs": [],
   "source": [
    "siamese_model = make_siamese_model()\n"
   ]
  },
  {
   "cell_type": "code",
   "execution_count": 81,
   "id": "3ae29810",
   "metadata": {},
   "outputs": [
    {
     "name": "stdout",
     "output_type": "stream",
     "text": [
      "Model: \"SiameseNetwork\"\n",
      "__________________________________________________________________________________________________\n",
      " Layer (type)                Output Shape                 Param #   Connected to                  \n",
      "==================================================================================================\n",
      " input_img (InputLayer)      [(None, 100, 100, 3)]        0         []                            \n",
      "                                                                                                  \n",
      " validation_img (InputLayer  [(None, 100, 100, 3)]        0         []                            \n",
      " )                                                                                                \n",
      "                                                                                                  \n",
      " embedding (Functional)      (None, 4096)                 3896044   ['input_img[0][0]',           \n",
      "                                                          8          'validation_img[0][0]']      \n",
      "                                                                                                  \n",
      " distance (L1Dist)           (None, 4096)                 0         ['embedding[3][0]',           \n",
      "                                                                     'embedding[4][0]']           \n",
      "                                                                                                  \n",
      " dense_3 (Dense)             (None, 1)                    4097      ['distance[0][0]']            \n",
      "                                                                                                  \n",
      "==================================================================================================\n",
      "Total params: 38964545 (148.64 MB)\n",
      "Trainable params: 38964545 (148.64 MB)\n",
      "Non-trainable params: 0 (0.00 Byte)\n",
      "__________________________________________________________________________________________________\n"
     ]
    }
   ],
   "source": [
    "siamese_model.summary()"
   ]
  },
  {
   "cell_type": "code",
   "execution_count": 82,
   "id": "a970abd5",
   "metadata": {},
   "outputs": [],
   "source": [
    "#TRAINING\n",
    "#SET UP LOSS AND OPTIMIZER\n",
    "binary_cross_loss = tf.losses.BinaryCrossentropy()"
   ]
  },
  {
   "cell_type": "code",
   "execution_count": 83,
   "id": "95c497e3",
   "metadata": {},
   "outputs": [],
   "source": [
    "#DEFINE AN OPTIMIZER\n",
    "opt = tf.keras.optimizers.Adam(1e-4) # 0.0001"
   ]
  },
  {
   "cell_type": "code",
   "execution_count": 84,
   "id": "f08b8005",
   "metadata": {},
   "outputs": [],
   "source": [
    "# Compile the model\n",
    "siamese_model.compile(optimizer=opt, loss=binary_cross_loss, metrics=['accuracy', tf.keras.metrics.Precision(), tf.keras.metrics.Recall()])"
   ]
  },
  {
   "cell_type": "code",
   "execution_count": 85,
   "id": "960f6b7f",
   "metadata": {},
   "outputs": [],
   "source": [
    "#ESTABLISH CHECKPOINTS\n",
    "checkpoint_dir = './training_checkpoints'\n",
    "checkpoint_prefix = os.path.join(checkpoint_dir, 'ckpt')\n",
    "checkpoint = tf.train.Checkpoint(opt=opt, siamese_model=siamese_model)"
   ]
  },
  {
   "cell_type": "code",
   "execution_count": 86,
   "id": "efa4042d",
   "metadata": {},
   "outputs": [],
   "source": [
    "test_batch=train_data.as_numpy_iterator()"
   ]
  },
  {
   "cell_type": "code",
   "execution_count": 87,
   "id": "086a9fea",
   "metadata": {},
   "outputs": [],
   "source": [
    "batch_1=test_batch.next()"
   ]
  },
  {
   "cell_type": "code",
   "execution_count": 88,
   "id": "8be62b8c",
   "metadata": {},
   "outputs": [],
   "source": [
    "X = batch_1[:2]"
   ]
  },
  {
   "cell_type": "code",
   "execution_count": 89,
   "id": "0e0bcfd8",
   "metadata": {},
   "outputs": [
    {
     "data": {
      "text/plain": [
       "2"
      ]
     },
     "execution_count": 89,
     "metadata": {},
     "output_type": "execute_result"
    }
   ],
   "source": [
    "len(X)"
   ]
  },
  {
   "cell_type": "code",
   "execution_count": 90,
   "id": "d7a88958",
   "metadata": {},
   "outputs": [
    {
     "data": {
      "text/plain": [
       "(2, 16, 100, 100, 3)"
      ]
     },
     "execution_count": 90,
     "metadata": {},
     "output_type": "execute_result"
    }
   ],
   "source": [
    "np.array(X).shape"
   ]
  },
  {
   "cell_type": "code",
   "execution_count": 91,
   "id": "6ce13985",
   "metadata": {},
   "outputs": [],
   "source": [
    "y = batch_1[2]"
   ]
  },
  {
   "cell_type": "code",
   "execution_count": 92,
   "id": "2f98d8c5",
   "metadata": {},
   "outputs": [
    {
     "data": {
      "text/plain": [
       "array([0., 0., 0., 0., 0., 1., 0., 0., 1., 1., 0., 0., 0., 0., 0., 1.],\n",
       "      dtype=float32)"
      ]
     },
     "execution_count": 92,
     "metadata": {},
     "output_type": "execute_result"
    }
   ],
   "source": [
    "y"
   ]
  },
  {
   "cell_type": "code",
   "execution_count": 93,
   "id": "c4073374",
   "metadata": {},
   "outputs": [],
   "source": [
    "tf.losses.BinaryCrossentropy??"
   ]
  },
  {
   "cell_type": "code",
   "execution_count": 94,
   "id": "5a14ef37",
   "metadata": {},
   "outputs": [],
   "source": [
    "@tf.function\n",
    "def train_step(batch):\n",
    "    \n",
    "    # Record all of the operations \n",
    "    with tf.GradientTape() as tape:     \n",
    "        # Get anchor and positive/negative image\n",
    "        X = batch[:2]\n",
    "        # Get label\n",
    "        y = batch[2]\n",
    "        \n",
    "        # Forward pass\n",
    "        yhat = siamese_model(X, training=True)\n",
    "        # Calculate loss\n",
    "        loss = binary_cross_loss(y, yhat)\n",
    "    print(loss)\n",
    "        \n",
    "    # Calculate gradients\n",
    "    grad = tape.gradient(loss, siamese_model.trainable_variables)\n",
    "    \n",
    "    # Calculate updated weights and apply to siamese model\n",
    "    opt.apply_gradients(zip(grad, siamese_model.trainable_variables))\n",
    "        \n",
    "    # Return loss\n",
    "    return loss\n",
    "        \n"
   ]
  },
  {
   "cell_type": "code",
   "execution_count": 95,
   "id": "e0e6ef5b",
   "metadata": {},
   "outputs": [],
   "source": [
    "#build a training loop\n",
    "def train(data, EPOCHS):\n",
    "    # Loop through epochs\n",
    "    for epoch in range(1, EPOCHS+1):\n",
    "        print('\\n Epoch {}/{}'.format(epoch, EPOCHS))\n",
    "        progbar = tf.keras.utils.Progbar(len(data))\n",
    "        \n",
    "        # Creating a metric object \n",
    "        r = Recall()\n",
    "        p = Precision()\n",
    "        \n",
    "        # Loop through each batch\n",
    "        for idx, batch in enumerate(data):\n",
    "            # Run train step here\n",
    "            loss = train_step(batch)\n",
    "            yhat = siamese_model.predict(batch[:2])\n",
    "            r.update_state(batch[2], yhat)\n",
    "            p.update_state(batch[2], yhat) \n",
    "            progbar.update(idx+1)\n",
    "        print(loss.numpy(), r.result().numpy(), p.result().numpy())\n",
    "        \n",
    "        # Save checkpoints\n",
    "        if epoch % 10 == 0: \n",
    "            checkpoint.save(file_prefix=checkpoint_prefix)"
   ]
  },
  {
   "cell_type": "code",
   "execution_count": 96,
   "id": "e05d5755",
   "metadata": {},
   "outputs": [],
   "source": [
    "import tensorflow as tf\n",
    "from tensorflow.keras.metrics import Recall, Precision\n"
   ]
  },
  {
   "cell_type": "code",
   "execution_count": null,
   "id": "87388212",
   "metadata": {},
   "outputs": [],
   "source": []
  },
  {
   "cell_type": "code",
   "execution_count": 97,
   "id": "07c7975d",
   "metadata": {},
   "outputs": [],
   "source": [
    "#TRAIN THE MODEL\n",
    "EPOCHS = 50"
   ]
  },
  {
   "cell_type": "code",
   "execution_count": 98,
   "id": "30b1bf55",
   "metadata": {},
   "outputs": [
    {
     "name": "stdout",
     "output_type": "stream",
     "text": [
      "\n",
      " Epoch 1/50\n",
      "Tensor(\"binary_crossentropy/weighted_loss/value:0\", shape=(), dtype=float32)\n",
      "Tensor(\"binary_crossentropy/weighted_loss/value:0\", shape=(), dtype=float32)\n",
      "1/1 [==============================] - 7s 7s/step\n",
      "1/1 [==============================] - 7s 7s/step\n",
      "1/1 [==============================] - 7s 7s/step\n",
      "1/1 [==============================] - 7s 7s/step\n",
      "1/1 [==============================] - 7s 7s/step\n",
      "1/1 [==============================] - 7s 7s/step\n",
      "1/1 [==============================] - 7s 7s/step\n",
      "1/1 [==============================] - 7s 7s/step\n",
      "1/1 [==============================] - 7s 7s/step\n",
      "1/1 [==============================] - 7s 7s/step\n",
      "1/1 [==============================] - 7s 7s/step\n",
      "1/1 [==============================] - 7s 7s/step\n",
      "12/13 [==========================>...] - ETA: 57s Tensor(\"binary_crossentropy/weighted_loss/value:0\", shape=(), dtype=float32)\n",
      "1/1 [==============================] - 6s 6s/step\n",
      "13/13 [==============================] - 730s 56s/step\n",
      "0.23232903 0.75 0.95454544\n",
      "\n",
      " Epoch 2/50\n",
      "1/1 [==============================] - 7s 7s/step\n",
      "1/1 [==============================] - 7s 7s/step\n",
      "1/1 [==============================] - 7s 7s/step\n",
      "1/1 [==============================] - 7s 7s/step\n",
      "1/1 [==============================] - 7s 7s/step\n",
      "1/1 [==============================] - 7s 7s/step\n",
      "1/1 [==============================] - 7s 7s/step\n",
      "1/1 [==============================] - 7s 7s/step\n",
      "1/1 [==============================] - 7s 7s/step\n",
      "1/1 [==============================] - 7s 7s/step\n",
      "1/1 [==============================] - 7s 7s/step\n",
      "1/1 [==============================] - 7s 7s/step\n",
      "1/1 [==============================] - 5s 5s/step\n",
      "13/13 [==============================] - 701s 53s/step\n",
      "0.07991594 0.8780488 1.0\n",
      "\n",
      " Epoch 3/50\n",
      "1/1 [==============================] - 7s 7s/step\n",
      "1/1 [==============================] - 7s 7s/step\n",
      "1/1 [==============================] - 7s 7s/step\n",
      "1/1 [==============================] - 7s 7s/step\n",
      "1/1 [==============================] - 7s 7s/step\n",
      "1/1 [==============================] - 7s 7s/step\n",
      "1/1 [==============================] - 7s 7s/step\n",
      "1/1 [==============================] - 7s 7s/step\n",
      "1/1 [==============================] - 7s 7s/step\n",
      "1/1 [==============================] - 7s 7s/step\n",
      "1/1 [==============================] - 7s 7s/step\n",
      "1/1 [==============================] - 7s 7s/step\n",
      "1/1 [==============================] - 5s 5s/step\n",
      "13/13 [==============================] - 690s 53s/step\n",
      "0.08494442 1.0 1.0\n",
      "\n",
      " Epoch 4/50\n",
      "1/1 [==============================] - 7s 7s/step\n",
      "1/1 [==============================] - 6s 6s/step\n",
      "1/1 [==============================] - 6s 6s/step\n",
      "1/1 [==============================] - 6s 6s/step\n",
      "1/1 [==============================] - 6s 6s/step\n",
      "1/1 [==============================] - 6s 6s/step\n",
      "1/1 [==============================] - 6s 6s/step\n",
      "1/1 [==============================] - 8s 8s/step\n",
      "1/1 [==============================] - 8s 8s/step\n",
      "1/1 [==============================] - 8s 8s/step\n",
      "1/1 [==============================] - 8s 8s/step\n",
      "1/1 [==============================] - 7s 7s/step\n",
      "1/1 [==============================] - 5s 5s/step\n",
      "13/13 [==============================] - 700s 54s/step\n",
      "0.010103254 0.96103895 0.9736842\n",
      "\n",
      " Epoch 5/50\n",
      "1/1 [==============================] - 7s 7s/step\n",
      " 1/13 [=>............................] - ETA: 11:01"
     ]
    },
    {
     "ename": "KeyboardInterrupt",
     "evalue": "",
     "output_type": "error",
     "traceback": [
      "\u001b[1;31m---------------------------------------------------------------------------\u001b[0m",
      "\u001b[1;31mKeyboardInterrupt\u001b[0m                         Traceback (most recent call last)",
      "Cell \u001b[1;32mIn[98], line 1\u001b[0m\n\u001b[1;32m----> 1\u001b[0m \u001b[43mtrain\u001b[49m\u001b[43m(\u001b[49m\u001b[43mtrain_data\u001b[49m\u001b[43m,\u001b[49m\u001b[43m \u001b[49m\u001b[43mEPOCHS\u001b[49m\u001b[43m)\u001b[49m\n",
      "Cell \u001b[1;32mIn[95], line 15\u001b[0m, in \u001b[0;36mtrain\u001b[1;34m(data, EPOCHS)\u001b[0m\n\u001b[0;32m     12\u001b[0m \u001b[38;5;66;03m# Loop through each batch\u001b[39;00m\n\u001b[0;32m     13\u001b[0m \u001b[38;5;28;01mfor\u001b[39;00m idx, batch \u001b[38;5;129;01min\u001b[39;00m \u001b[38;5;28menumerate\u001b[39m(data):\n\u001b[0;32m     14\u001b[0m     \u001b[38;5;66;03m# Run train step here\u001b[39;00m\n\u001b[1;32m---> 15\u001b[0m     loss \u001b[38;5;241m=\u001b[39m \u001b[43mtrain_step\u001b[49m\u001b[43m(\u001b[49m\u001b[43mbatch\u001b[49m\u001b[43m)\u001b[49m\n\u001b[0;32m     16\u001b[0m     yhat \u001b[38;5;241m=\u001b[39m siamese_model\u001b[38;5;241m.\u001b[39mpredict(batch[:\u001b[38;5;241m2\u001b[39m])\n\u001b[0;32m     17\u001b[0m     r\u001b[38;5;241m.\u001b[39mupdate_state(batch[\u001b[38;5;241m2\u001b[39m], yhat)\n",
      "File \u001b[1;32mC:\\ProgramData\\anaconda3\\lib\\site-packages\\tensorflow\\python\\util\\traceback_utils.py:150\u001b[0m, in \u001b[0;36mfilter_traceback.<locals>.error_handler\u001b[1;34m(*args, **kwargs)\u001b[0m\n\u001b[0;32m    148\u001b[0m filtered_tb \u001b[38;5;241m=\u001b[39m \u001b[38;5;28;01mNone\u001b[39;00m\n\u001b[0;32m    149\u001b[0m \u001b[38;5;28;01mtry\u001b[39;00m:\n\u001b[1;32m--> 150\u001b[0m   \u001b[38;5;28;01mreturn\u001b[39;00m fn(\u001b[38;5;241m*\u001b[39margs, \u001b[38;5;241m*\u001b[39m\u001b[38;5;241m*\u001b[39mkwargs)\n\u001b[0;32m    151\u001b[0m \u001b[38;5;28;01mexcept\u001b[39;00m \u001b[38;5;167;01mException\u001b[39;00m \u001b[38;5;28;01mas\u001b[39;00m e:\n\u001b[0;32m    152\u001b[0m   filtered_tb \u001b[38;5;241m=\u001b[39m _process_traceback_frames(e\u001b[38;5;241m.\u001b[39m__traceback__)\n",
      "File \u001b[1;32mC:\\ProgramData\\anaconda3\\lib\\site-packages\\tensorflow\\python\\eager\\polymorphic_function\\polymorphic_function.py:831\u001b[0m, in \u001b[0;36mFunction.__call__\u001b[1;34m(self, *args, **kwds)\u001b[0m\n\u001b[0;32m    828\u001b[0m compiler \u001b[38;5;241m=\u001b[39m \u001b[38;5;124m\"\u001b[39m\u001b[38;5;124mxla\u001b[39m\u001b[38;5;124m\"\u001b[39m \u001b[38;5;28;01mif\u001b[39;00m \u001b[38;5;28mself\u001b[39m\u001b[38;5;241m.\u001b[39m_jit_compile \u001b[38;5;28;01melse\u001b[39;00m \u001b[38;5;124m\"\u001b[39m\u001b[38;5;124mnonXla\u001b[39m\u001b[38;5;124m\"\u001b[39m\n\u001b[0;32m    830\u001b[0m \u001b[38;5;28;01mwith\u001b[39;00m OptionalXlaContext(\u001b[38;5;28mself\u001b[39m\u001b[38;5;241m.\u001b[39m_jit_compile):\n\u001b[1;32m--> 831\u001b[0m   result \u001b[38;5;241m=\u001b[39m \u001b[38;5;28mself\u001b[39m\u001b[38;5;241m.\u001b[39m_call(\u001b[38;5;241m*\u001b[39margs, \u001b[38;5;241m*\u001b[39m\u001b[38;5;241m*\u001b[39mkwds)\n\u001b[0;32m    833\u001b[0m new_tracing_count \u001b[38;5;241m=\u001b[39m \u001b[38;5;28mself\u001b[39m\u001b[38;5;241m.\u001b[39mexperimental_get_tracing_count()\n\u001b[0;32m    834\u001b[0m without_tracing \u001b[38;5;241m=\u001b[39m (tracing_count \u001b[38;5;241m==\u001b[39m new_tracing_count)\n",
      "File \u001b[1;32mC:\\ProgramData\\anaconda3\\lib\\site-packages\\tensorflow\\python\\eager\\polymorphic_function\\polymorphic_function.py:867\u001b[0m, in \u001b[0;36mFunction._call\u001b[1;34m(self, *args, **kwds)\u001b[0m\n\u001b[0;32m    864\u001b[0m   \u001b[38;5;28mself\u001b[39m\u001b[38;5;241m.\u001b[39m_lock\u001b[38;5;241m.\u001b[39mrelease()\n\u001b[0;32m    865\u001b[0m   \u001b[38;5;66;03m# In this case we have created variables on the first call, so we run the\u001b[39;00m\n\u001b[0;32m    866\u001b[0m   \u001b[38;5;66;03m# defunned version which is guaranteed to never create variables.\u001b[39;00m\n\u001b[1;32m--> 867\u001b[0m   \u001b[38;5;28;01mreturn\u001b[39;00m \u001b[43mtracing_compilation\u001b[49m\u001b[38;5;241;43m.\u001b[39;49m\u001b[43mcall_function\u001b[49m\u001b[43m(\u001b[49m\n\u001b[0;32m    868\u001b[0m \u001b[43m      \u001b[49m\u001b[43margs\u001b[49m\u001b[43m,\u001b[49m\u001b[43m \u001b[49m\u001b[43mkwds\u001b[49m\u001b[43m,\u001b[49m\u001b[43m \u001b[49m\u001b[38;5;28;43mself\u001b[39;49m\u001b[38;5;241;43m.\u001b[39;49m\u001b[43m_no_variable_creation_config\u001b[49m\n\u001b[0;32m    869\u001b[0m \u001b[43m  \u001b[49m\u001b[43m)\u001b[49m\n\u001b[0;32m    870\u001b[0m \u001b[38;5;28;01melif\u001b[39;00m \u001b[38;5;28mself\u001b[39m\u001b[38;5;241m.\u001b[39m_variable_creation_config \u001b[38;5;129;01mis\u001b[39;00m \u001b[38;5;129;01mnot\u001b[39;00m \u001b[38;5;28;01mNone\u001b[39;00m:\n\u001b[0;32m    871\u001b[0m   \u001b[38;5;66;03m# Release the lock early so that multiple threads can perform the call\u001b[39;00m\n\u001b[0;32m    872\u001b[0m   \u001b[38;5;66;03m# in parallel.\u001b[39;00m\n\u001b[0;32m    873\u001b[0m   \u001b[38;5;28mself\u001b[39m\u001b[38;5;241m.\u001b[39m_lock\u001b[38;5;241m.\u001b[39mrelease()\n",
      "File \u001b[1;32mC:\\ProgramData\\anaconda3\\lib\\site-packages\\tensorflow\\python\\eager\\polymorphic_function\\tracing_compilation.py:139\u001b[0m, in \u001b[0;36mcall_function\u001b[1;34m(args, kwargs, tracing_options)\u001b[0m\n\u001b[0;32m    137\u001b[0m bound_args \u001b[38;5;241m=\u001b[39m function\u001b[38;5;241m.\u001b[39mfunction_type\u001b[38;5;241m.\u001b[39mbind(\u001b[38;5;241m*\u001b[39margs, \u001b[38;5;241m*\u001b[39m\u001b[38;5;241m*\u001b[39mkwargs)\n\u001b[0;32m    138\u001b[0m flat_inputs \u001b[38;5;241m=\u001b[39m function\u001b[38;5;241m.\u001b[39mfunction_type\u001b[38;5;241m.\u001b[39munpack_inputs(bound_args)\n\u001b[1;32m--> 139\u001b[0m \u001b[38;5;28;01mreturn\u001b[39;00m \u001b[43mfunction\u001b[49m\u001b[38;5;241;43m.\u001b[39;49m\u001b[43m_call_flat\u001b[49m\u001b[43m(\u001b[49m\u001b[43m  \u001b[49m\u001b[38;5;66;43;03m# pylint: disable=protected-access\u001b[39;49;00m\n\u001b[0;32m    140\u001b[0m \u001b[43m    \u001b[49m\u001b[43mflat_inputs\u001b[49m\u001b[43m,\u001b[49m\u001b[43m \u001b[49m\u001b[43mcaptured_inputs\u001b[49m\u001b[38;5;241;43m=\u001b[39;49m\u001b[43mfunction\u001b[49m\u001b[38;5;241;43m.\u001b[39;49m\u001b[43mcaptured_inputs\u001b[49m\n\u001b[0;32m    141\u001b[0m \u001b[43m\u001b[49m\u001b[43m)\u001b[49m\n",
      "File \u001b[1;32mC:\\ProgramData\\anaconda3\\lib\\site-packages\\tensorflow\\python\\eager\\polymorphic_function\\concrete_function.py:1264\u001b[0m, in \u001b[0;36mConcreteFunction._call_flat\u001b[1;34m(self, tensor_inputs, captured_inputs)\u001b[0m\n\u001b[0;32m   1260\u001b[0m possible_gradient_type \u001b[38;5;241m=\u001b[39m gradients_util\u001b[38;5;241m.\u001b[39mPossibleTapeGradientTypes(args)\n\u001b[0;32m   1261\u001b[0m \u001b[38;5;28;01mif\u001b[39;00m (possible_gradient_type \u001b[38;5;241m==\u001b[39m gradients_util\u001b[38;5;241m.\u001b[39mPOSSIBLE_GRADIENT_TYPES_NONE\n\u001b[0;32m   1262\u001b[0m     \u001b[38;5;129;01mand\u001b[39;00m executing_eagerly):\n\u001b[0;32m   1263\u001b[0m   \u001b[38;5;66;03m# No tape is watching; skip to running the function.\u001b[39;00m\n\u001b[1;32m-> 1264\u001b[0m   \u001b[38;5;28;01mreturn\u001b[39;00m \u001b[38;5;28;43mself\u001b[39;49m\u001b[38;5;241;43m.\u001b[39;49m\u001b[43m_inference_function\u001b[49m\u001b[38;5;241;43m.\u001b[39;49m\u001b[43mflat_call\u001b[49m\u001b[43m(\u001b[49m\u001b[43margs\u001b[49m\u001b[43m)\u001b[49m\n\u001b[0;32m   1265\u001b[0m forward_backward \u001b[38;5;241m=\u001b[39m \u001b[38;5;28mself\u001b[39m\u001b[38;5;241m.\u001b[39m_select_forward_and_backward_functions(\n\u001b[0;32m   1266\u001b[0m     args,\n\u001b[0;32m   1267\u001b[0m     possible_gradient_type,\n\u001b[0;32m   1268\u001b[0m     executing_eagerly)\n\u001b[0;32m   1269\u001b[0m forward_function, args_with_tangents \u001b[38;5;241m=\u001b[39m forward_backward\u001b[38;5;241m.\u001b[39mforward()\n",
      "File \u001b[1;32mC:\\ProgramData\\anaconda3\\lib\\site-packages\\tensorflow\\python\\eager\\polymorphic_function\\atomic_function.py:217\u001b[0m, in \u001b[0;36mAtomicFunction.flat_call\u001b[1;34m(self, args)\u001b[0m\n\u001b[0;32m    215\u001b[0m \u001b[38;5;28;01mdef\u001b[39;00m \u001b[38;5;21mflat_call\u001b[39m(\u001b[38;5;28mself\u001b[39m, args: Sequence[core\u001b[38;5;241m.\u001b[39mTensor]) \u001b[38;5;241m-\u001b[39m\u001b[38;5;241m>\u001b[39m Any:\n\u001b[0;32m    216\u001b[0m   \u001b[38;5;124;03m\"\"\"Calls with tensor inputs and returns the structured output.\"\"\"\u001b[39;00m\n\u001b[1;32m--> 217\u001b[0m   flat_outputs \u001b[38;5;241m=\u001b[39m \u001b[38;5;28;43mself\u001b[39;49m\u001b[43m(\u001b[49m\u001b[38;5;241;43m*\u001b[39;49m\u001b[43margs\u001b[49m\u001b[43m)\u001b[49m\n\u001b[0;32m    218\u001b[0m   \u001b[38;5;28;01mreturn\u001b[39;00m \u001b[38;5;28mself\u001b[39m\u001b[38;5;241m.\u001b[39mfunction_type\u001b[38;5;241m.\u001b[39mpack_output(flat_outputs)\n",
      "File \u001b[1;32mC:\\ProgramData\\anaconda3\\lib\\site-packages\\tensorflow\\python\\eager\\polymorphic_function\\atomic_function.py:252\u001b[0m, in \u001b[0;36mAtomicFunction.__call__\u001b[1;34m(self, *args)\u001b[0m\n\u001b[0;32m    250\u001b[0m \u001b[38;5;28;01mwith\u001b[39;00m record\u001b[38;5;241m.\u001b[39mstop_recording():\n\u001b[0;32m    251\u001b[0m   \u001b[38;5;28;01mif\u001b[39;00m \u001b[38;5;28mself\u001b[39m\u001b[38;5;241m.\u001b[39m_bound_context\u001b[38;5;241m.\u001b[39mexecuting_eagerly():\n\u001b[1;32m--> 252\u001b[0m     outputs \u001b[38;5;241m=\u001b[39m \u001b[38;5;28;43mself\u001b[39;49m\u001b[38;5;241;43m.\u001b[39;49m\u001b[43m_bound_context\u001b[49m\u001b[38;5;241;43m.\u001b[39;49m\u001b[43mcall_function\u001b[49m\u001b[43m(\u001b[49m\n\u001b[0;32m    253\u001b[0m \u001b[43m        \u001b[49m\u001b[38;5;28;43mself\u001b[39;49m\u001b[38;5;241;43m.\u001b[39;49m\u001b[43mname\u001b[49m\u001b[43m,\u001b[49m\n\u001b[0;32m    254\u001b[0m \u001b[43m        \u001b[49m\u001b[38;5;28;43mlist\u001b[39;49m\u001b[43m(\u001b[49m\u001b[43margs\u001b[49m\u001b[43m)\u001b[49m\u001b[43m,\u001b[49m\n\u001b[0;32m    255\u001b[0m \u001b[43m        \u001b[49m\u001b[38;5;28;43mlen\u001b[39;49m\u001b[43m(\u001b[49m\u001b[38;5;28;43mself\u001b[39;49m\u001b[38;5;241;43m.\u001b[39;49m\u001b[43mfunction_type\u001b[49m\u001b[38;5;241;43m.\u001b[39;49m\u001b[43mflat_outputs\u001b[49m\u001b[43m)\u001b[49m\u001b[43m,\u001b[49m\n\u001b[0;32m    256\u001b[0m \u001b[43m    \u001b[49m\u001b[43m)\u001b[49m\n\u001b[0;32m    257\u001b[0m   \u001b[38;5;28;01melse\u001b[39;00m:\n\u001b[0;32m    258\u001b[0m     outputs \u001b[38;5;241m=\u001b[39m make_call_op_in_graph(\n\u001b[0;32m    259\u001b[0m         \u001b[38;5;28mself\u001b[39m,\n\u001b[0;32m    260\u001b[0m         \u001b[38;5;28mlist\u001b[39m(args),\n\u001b[0;32m    261\u001b[0m         \u001b[38;5;28mself\u001b[39m\u001b[38;5;241m.\u001b[39m_bound_context\u001b[38;5;241m.\u001b[39mfunction_call_options\u001b[38;5;241m.\u001b[39mas_attrs(),\n\u001b[0;32m    262\u001b[0m     )\n",
      "File \u001b[1;32mC:\\ProgramData\\anaconda3\\lib\\site-packages\\tensorflow\\python\\eager\\context.py:1479\u001b[0m, in \u001b[0;36mContext.call_function\u001b[1;34m(self, name, tensor_inputs, num_outputs)\u001b[0m\n\u001b[0;32m   1477\u001b[0m cancellation_context \u001b[38;5;241m=\u001b[39m cancellation\u001b[38;5;241m.\u001b[39mcontext()\n\u001b[0;32m   1478\u001b[0m \u001b[38;5;28;01mif\u001b[39;00m cancellation_context \u001b[38;5;129;01mis\u001b[39;00m \u001b[38;5;28;01mNone\u001b[39;00m:\n\u001b[1;32m-> 1479\u001b[0m   outputs \u001b[38;5;241m=\u001b[39m \u001b[43mexecute\u001b[49m\u001b[38;5;241;43m.\u001b[39;49m\u001b[43mexecute\u001b[49m\u001b[43m(\u001b[49m\n\u001b[0;32m   1480\u001b[0m \u001b[43m      \u001b[49m\u001b[43mname\u001b[49m\u001b[38;5;241;43m.\u001b[39;49m\u001b[43mdecode\u001b[49m\u001b[43m(\u001b[49m\u001b[38;5;124;43m\"\u001b[39;49m\u001b[38;5;124;43mutf-8\u001b[39;49m\u001b[38;5;124;43m\"\u001b[39;49m\u001b[43m)\u001b[49m\u001b[43m,\u001b[49m\n\u001b[0;32m   1481\u001b[0m \u001b[43m      \u001b[49m\u001b[43mnum_outputs\u001b[49m\u001b[38;5;241;43m=\u001b[39;49m\u001b[43mnum_outputs\u001b[49m\u001b[43m,\u001b[49m\n\u001b[0;32m   1482\u001b[0m \u001b[43m      \u001b[49m\u001b[43minputs\u001b[49m\u001b[38;5;241;43m=\u001b[39;49m\u001b[43mtensor_inputs\u001b[49m\u001b[43m,\u001b[49m\n\u001b[0;32m   1483\u001b[0m \u001b[43m      \u001b[49m\u001b[43mattrs\u001b[49m\u001b[38;5;241;43m=\u001b[39;49m\u001b[43mattrs\u001b[49m\u001b[43m,\u001b[49m\n\u001b[0;32m   1484\u001b[0m \u001b[43m      \u001b[49m\u001b[43mctx\u001b[49m\u001b[38;5;241;43m=\u001b[39;49m\u001b[38;5;28;43mself\u001b[39;49m\u001b[43m,\u001b[49m\n\u001b[0;32m   1485\u001b[0m \u001b[43m  \u001b[49m\u001b[43m)\u001b[49m\n\u001b[0;32m   1486\u001b[0m \u001b[38;5;28;01melse\u001b[39;00m:\n\u001b[0;32m   1487\u001b[0m   outputs \u001b[38;5;241m=\u001b[39m execute\u001b[38;5;241m.\u001b[39mexecute_with_cancellation(\n\u001b[0;32m   1488\u001b[0m       name\u001b[38;5;241m.\u001b[39mdecode(\u001b[38;5;124m\"\u001b[39m\u001b[38;5;124mutf-8\u001b[39m\u001b[38;5;124m\"\u001b[39m),\n\u001b[0;32m   1489\u001b[0m       num_outputs\u001b[38;5;241m=\u001b[39mnum_outputs,\n\u001b[1;32m   (...)\u001b[0m\n\u001b[0;32m   1493\u001b[0m       cancellation_manager\u001b[38;5;241m=\u001b[39mcancellation_context,\n\u001b[0;32m   1494\u001b[0m   )\n",
      "File \u001b[1;32mC:\\ProgramData\\anaconda3\\lib\\site-packages\\tensorflow\\python\\eager\\execute.py:60\u001b[0m, in \u001b[0;36mquick_execute\u001b[1;34m(op_name, num_outputs, inputs, attrs, ctx, name)\u001b[0m\n\u001b[0;32m     53\u001b[0m   \u001b[38;5;66;03m# Convert any objects of type core_types.Tensor to Tensor.\u001b[39;00m\n\u001b[0;32m     54\u001b[0m   inputs \u001b[38;5;241m=\u001b[39m [\n\u001b[0;32m     55\u001b[0m       tensor_conversion_registry\u001b[38;5;241m.\u001b[39mconvert(t)\n\u001b[0;32m     56\u001b[0m       \u001b[38;5;28;01mif\u001b[39;00m \u001b[38;5;28misinstance\u001b[39m(t, core_types\u001b[38;5;241m.\u001b[39mTensor)\n\u001b[0;32m     57\u001b[0m       \u001b[38;5;28;01melse\u001b[39;00m t\n\u001b[0;32m     58\u001b[0m       \u001b[38;5;28;01mfor\u001b[39;00m t \u001b[38;5;129;01min\u001b[39;00m inputs\n\u001b[0;32m     59\u001b[0m   ]\n\u001b[1;32m---> 60\u001b[0m   tensors \u001b[38;5;241m=\u001b[39m \u001b[43mpywrap_tfe\u001b[49m\u001b[38;5;241;43m.\u001b[39;49m\u001b[43mTFE_Py_Execute\u001b[49m\u001b[43m(\u001b[49m\u001b[43mctx\u001b[49m\u001b[38;5;241;43m.\u001b[39;49m\u001b[43m_handle\u001b[49m\u001b[43m,\u001b[49m\u001b[43m \u001b[49m\u001b[43mdevice_name\u001b[49m\u001b[43m,\u001b[49m\u001b[43m \u001b[49m\u001b[43mop_name\u001b[49m\u001b[43m,\u001b[49m\n\u001b[0;32m     61\u001b[0m \u001b[43m                                      \u001b[49m\u001b[43minputs\u001b[49m\u001b[43m,\u001b[49m\u001b[43m \u001b[49m\u001b[43mattrs\u001b[49m\u001b[43m,\u001b[49m\u001b[43m \u001b[49m\u001b[43mnum_outputs\u001b[49m\u001b[43m)\u001b[49m\n\u001b[0;32m     62\u001b[0m \u001b[38;5;28;01mexcept\u001b[39;00m core\u001b[38;5;241m.\u001b[39m_NotOkStatusException \u001b[38;5;28;01mas\u001b[39;00m e:\n\u001b[0;32m     63\u001b[0m   \u001b[38;5;28;01mif\u001b[39;00m name \u001b[38;5;129;01mis\u001b[39;00m \u001b[38;5;129;01mnot\u001b[39;00m \u001b[38;5;28;01mNone\u001b[39;00m:\n",
      "\u001b[1;31mKeyboardInterrupt\u001b[0m: "
     ]
    }
   ],
   "source": [
    "train(train_data, EPOCHS)"
   ]
  },
  {
   "cell_type": "code",
   "execution_count": null,
   "id": "9d02efc3",
   "metadata": {},
   "outputs": [],
   "source": [
    "#EVALUATE THE MODEL"
   ]
  },
  {
   "cell_type": "code",
   "execution_count": 99,
   "id": "3003516e",
   "metadata": {},
   "outputs": [],
   "source": [
    "#import metric calculations\n",
    "from tensorflow.keras.metrics import Precision, Recall"
   ]
  },
  {
   "cell_type": "code",
   "execution_count": 100,
   "id": "e7d7a732",
   "metadata": {},
   "outputs": [],
   "source": [
    "#grabing a batch of test data to make predictions\n",
    "test_input, test_val, y_true = test_data.as_numpy_iterator().next()"
   ]
  },
  {
   "cell_type": "code",
   "execution_count": 101,
   "id": "d967c0e6",
   "metadata": {},
   "outputs": [
    {
     "data": {
      "text/plain": [
       "<tensorflow.python.data.ops.dataset_ops.NumpyIterator at 0x1e50e476340>"
      ]
     },
     "execution_count": 101,
     "metadata": {},
     "output_type": "execute_result"
    }
   ],
   "source": [
    "test_data.as_numpy_iterator()# looping through and dynamically producing one batch of data"
   ]
  },
  {
   "cell_type": "code",
   "execution_count": 102,
   "id": "9af6d1ca",
   "metadata": {},
   "outputs": [],
   "source": [
    "test_var=test_data.as_numpy_iterator().next()"
   ]
  },
  {
   "cell_type": "code",
   "execution_count": 103,
   "id": "92f8a9a8",
   "metadata": {},
   "outputs": [
    {
     "data": {
      "text/plain": [
       "3"
      ]
     },
     "execution_count": 103,
     "metadata": {},
     "output_type": "execute_result"
    }
   ],
   "source": [
    "len(test_var) # variables"
   ]
  },
  {
   "cell_type": "code",
   "execution_count": 104,
   "id": "de5e6686",
   "metadata": {},
   "outputs": [
    {
     "data": {
      "text/plain": [
       "array([0., 0., 1., 0., 0., 1., 1., 1., 0., 0., 0., 0., 1., 0., 1., 1.],\n",
       "      dtype=float32)"
      ]
     },
     "execution_count": 104,
     "metadata": {},
     "output_type": "execute_result"
    }
   ],
   "source": [
    "test_var[2]"
   ]
  },
  {
   "cell_type": "code",
   "execution_count": 105,
   "id": "6cec02ed",
   "metadata": {},
   "outputs": [
    {
     "name": "stdout",
     "output_type": "stream",
     "text": [
      "1/1 [==============================] - 6s 6s/step\n"
     ]
    },
    {
     "data": {
      "text/plain": [
       "array([[1.2737347e-06],\n",
       "       [9.5485640e-01],\n",
       "       [8.1832808e-01],\n",
       "       [9.0492868e-08],\n",
       "       [5.5189525e-06],\n",
       "       [1.6575421e-05],\n",
       "       [7.5694615e-08],\n",
       "       [8.8233051e-08],\n",
       "       [8.7801929e-08],\n",
       "       [5.2768399e-09],\n",
       "       [8.2569003e-01],\n",
       "       [9.2314661e-01],\n",
       "       [9.3306404e-01],\n",
       "       [1.9430391e-07],\n",
       "       [9.3880337e-01],\n",
       "       [4.7932105e-07]], dtype=float32)"
      ]
     },
     "execution_count": 105,
     "metadata": {},
     "output_type": "execute_result"
    }
   ],
   "source": [
    "#making predictions\n",
    "y_hat=siamese_model.predict([test_input,test_val])\n",
    "y_hat"
   ]
  },
  {
   "cell_type": "code",
   "execution_count": 106,
   "id": "9e04c920",
   "metadata": {},
   "outputs": [
    {
     "data": {
      "text/plain": [
       "[0, 1, 1, 0, 0, 0, 0, 0, 0, 0, 1, 1, 1, 0, 1, 0]"
      ]
     },
     "execution_count": 106,
     "metadata": {},
     "output_type": "execute_result"
    }
   ],
   "source": [
    "#post_processing the results\n",
    "[1 if prediction > 0.5 else 0 for prediction in y_hat ]#threshold is 0.5\n"
   ]
  },
  {
   "cell_type": "code",
   "execution_count": 107,
   "id": "9e342953",
   "metadata": {},
   "outputs": [],
   "source": [
    "res=[]\n",
    "for prediction in y_hat:\n",
    "    if prediction > 0.5:\n",
    "        res.append(1)\n",
    "    else:\n",
    "        res.append(0)\n"
   ]
  },
  {
   "cell_type": "code",
   "execution_count": 108,
   "id": "75851f94",
   "metadata": {},
   "outputs": [
    {
     "data": {
      "text/plain": [
       "array([0., 1., 1., 0., 0., 0., 0., 0., 0., 0., 1., 1., 1., 0., 1., 0.],\n",
       "      dtype=float32)"
      ]
     },
     "execution_count": 108,
     "metadata": {},
     "output_type": "execute_result"
    }
   ],
   "source": [
    "y_true"
   ]
  },
  {
   "cell_type": "code",
   "execution_count": 109,
   "id": "6424846e",
   "metadata": {},
   "outputs": [
    {
     "data": {
      "text/plain": [
       "1.0"
      ]
     },
     "execution_count": 109,
     "metadata": {},
     "output_type": "execute_result"
    }
   ],
   "source": [
    "#creating a metric object for recall\n",
    "m=Recall()\n",
    "#CALCULATING THE RECALL VALUE\n",
    "m.update_state(y_true, y_hat)\n",
    "#return value\n",
    "m.result().numpy()"
   ]
  },
  {
   "cell_type": "code",
   "execution_count": 110,
   "id": "7c52a35f",
   "metadata": {},
   "outputs": [
    {
     "data": {
      "text/plain": [
       "1.0"
      ]
     },
     "execution_count": 110,
     "metadata": {},
     "output_type": "execute_result"
    }
   ],
   "source": [
    "# Creating a metric object \n",
    "m = Precision()\n",
    "\n",
    "# Calculating the recall value \n",
    "m.update_state(y_true, y_hat)\n",
    "\n",
    "# Return Recall Result\n",
    "m.result().numpy()"
   ]
  },
  {
   "cell_type": "code",
   "execution_count": 111,
   "id": "9eba9bf1",
   "metadata": {},
   "outputs": [
    {
     "data": {
      "image/png": "[encoded data removed]",
      "text/plain": [
       "<Figure size 1000x800 with 2 Axes>"
      ]
     },
     "metadata": {},
     "output_type": "display_data"
    }
   ],
   "source": [
    "#VISUALIZE RESULTS\n",
    "# Set plot size \n",
    "plt.figure(figsize=(10,8))\n",
    "\n",
    "# Set first subplot\n",
    "plt.subplot(1,2,1)\n",
    "plt.imshow(test_input[1])\n",
    "\n",
    "# Set second subplot\n",
    "plt.subplot(1,2,2)\n",
    "plt.imshow(test_val[1])\n",
    "\n",
    "# Renders cleanly\n",
    "plt.show()"
   ]
  },
  {
   "cell_type": "code",
   "execution_count": 112,
   "id": "6c0ce7eb",
   "metadata": {},
   "outputs": [
    {
     "name": "stderr",
     "output_type": "stream",
     "text": [
      "C:\\ProgramData\\anaconda3\\lib\\site-packages\\keras\\src\\engine\\training.py:3079: UserWarning: You are saving your model as an HDF5 file via `model.save()`. This file format is considered legacy. We recommend using instead the native Keras format, e.g. `model.save('my_model.keras')`.\n",
      "  saving_api.save_model(\n"
     ]
    }
   ],
   "source": [
    "#SAVE MY MODEL\n",
    "# Save weights\n",
    "siamese_model.save('siamesemodel.h5')"
   ]
  },
  {
   "cell_type": "code",
   "execution_count": 113,
   "id": "3d7bad1c",
   "metadata": {},
   "outputs": [],
   "source": [
    "l1=L1Dist"
   ]
  },
  {
   "cell_type": "code",
   "execution_count": 114,
   "id": "832288a8",
   "metadata": {},
   "outputs": [],
   "source": [
    "# Reload model \n",
    "model = tf.keras.models.load_model('siamesemodel.h5', \n",
    "                                   custom_objects={'L1Dist':L1Dist, 'BinaryCrossentropy':tf.losses.BinaryCrossentropy})\n"
   ]
  },
  {
   "cell_type": "code",
   "execution_count": 115,
   "id": "871b83d7",
   "metadata": {},
   "outputs": [],
   "source": [
    "tf.keras.models.load_model??"
   ]
  },
  {
   "cell_type": "code",
   "execution_count": 116,
   "id": "ee7d77f8",
   "metadata": {},
   "outputs": [
    {
     "name": "stdout",
     "output_type": "stream",
     "text": [
      "1/1 [==============================] - 6s 6s/step\n"
     ]
    },
    {
     "data": {
      "text/plain": [
       "array([[1.2737347e-06],\n",
       "       [9.5485640e-01],\n",
       "       [8.1832808e-01],\n",
       "       [9.0492868e-08],\n",
       "       [5.5189525e-06],\n",
       "       [1.6575421e-05],\n",
       "       [7.5694615e-08],\n",
       "       [8.8233051e-08],\n",
       "       [8.7801929e-08],\n",
       "       [5.2768399e-09],\n",
       "       [8.2569003e-01],\n",
       "       [9.2314661e-01],\n",
       "       [9.3306404e-01],\n",
       "       [1.9430391e-07],\n",
       "       [9.3880337e-01],\n",
       "       [4.7932105e-07]], dtype=float32)"
      ]
     },
     "execution_count": 116,
     "metadata": {},
     "output_type": "execute_result"
    }
   ],
   "source": [
    "# Make predictions with reloaded model\n",
    "siamese_model.predict([test_input, test_val])"
   ]
  },
  {
   "cell_type": "code",
   "execution_count": 117,
   "id": "7f9ce75f",
   "metadata": {},
   "outputs": [
    {
     "name": "stdout",
     "output_type": "stream",
     "text": [
      "Model: \"SiameseNetwork\"\n",
      "__________________________________________________________________________________________________\n",
      " Layer (type)                Output Shape                 Param #   Connected to                  \n",
      "==================================================================================================\n",
      " input_img (InputLayer)      [(None, 100, 100, 3)]        0         []                            \n",
      "                                                                                                  \n",
      " validation_img (InputLayer  [(None, 100, 100, 3)]        0         []                            \n",
      " )                                                                                                \n",
      "                                                                                                  \n",
      " embedding (Functional)      (None, 4096)                 3896044   ['input_img[0][0]',           \n",
      "                                                          8          'validation_img[0][0]']      \n",
      "                                                                                                  \n",
      " distance (L1Dist)           (None, 4096)                 0         ['embedding[3][0]',           \n",
      "                                                                     'embedding[4][0]']           \n",
      "                                                                                                  \n",
      " dense_3 (Dense)             (None, 1)                    4097      ['distance[0][0]']            \n",
      "                                                                                                  \n",
      "==================================================================================================\n",
      "Total params: 38964545 (148.64 MB)\n",
      "Trainable params: 38964545 (148.64 MB)\n",
      "Non-trainable params: 0 (0.00 Byte)\n",
      "__________________________________________________________________________________________________\n"
     ]
    }
   ],
   "source": [
    "# View model summary\n",
    "siamese_model.summary()"
   ]
  },
  {
   "cell_type": "markdown",
   "id": "2828adc9",
   "metadata": {},
   "source": [
    "Real time Test"
   ]
  },
  {
   "cell_type": "markdown",
   "id": "750e2fce",
   "metadata": {},
   "source": [
    "VERIFICATION FUNCTION"
   ]
  },
  {
   "cell_type": "markdown",
   "id": "cca6d268",
   "metadata": {},
   "source": [
    "OPENCV REALTIME VERIFICATION"
   ]
  },
  {
   "cell_type": "code",
   "execution_count": 307,
   "id": "d4a69675",
   "metadata": {},
   "outputs": [
    {
     "ename": "SyntaxError",
     "evalue": "unexpected character after line continuation character (710448216.py, line 1)",
     "output_type": "error",
     "traceback": [
      "\u001b[1;36m  Cell \u001b[1;32mIn[307], line 1\u001b[1;36m\u001b[0m\n\u001b[1;33m    Verification\\verification_images\u001b[0m\n\u001b[1;37m                 ^\u001b[0m\n\u001b[1;31mSyntaxError\u001b[0m\u001b[1;31m:\u001b[0m unexpected character after line continuation character\n"
     ]
    }
   ],
   "source": [
    "Verification\\verification_images"
   ]
  },
  {
   "cell_type": "code",
   "execution_count": 118,
   "id": "a1ff0c2b",
   "metadata": {},
   "outputs": [
    {
     "data": {
      "text/plain": [
       "['3c597edb-7e26-11ee-b042-0090a2cf62d8 - Copy (2).jpg',\n",
       " '3c597edb-7e26-11ee-b042-0090a2cf62d8 - Copy - Copy.jpg',\n",
       " '3d6db525-7e26-11ee-bc99-0090a2cf62d8 - Copy.jpg',\n",
       " '3d95e699-7e26-11ee-a97c-0090a2cf62d8 - Copy.jpg',\n",
       " '3e9a4426-7e26-11ee-9dab-0090a2cf62d8 - Copy.jpg',\n",
       " '3f05a06d-7e26-11ee-ba42-0090a2cf62d8 - Copy.jpg',\n",
       " '3fb0bc24-7e26-11ee-9500-0090a2cf62d8 - Copy.jpg',\n",
       " '3fe9a8c8-7e26-11ee-8057-0090a2cf62d8 - Copy.jpg',\n",
       " '4052c3f1-7e26-11ee-b869-0090a2cf62d8 - Copy.jpg',\n",
       " '408503c1-7e26-11ee-a526-0090a2cf62d8 - Copy.jpg',\n",
       " '4121c247-7e26-11ee-9106-0090a2cf62d8 - Copy.jpg',\n",
       " '507613d8-7e26-11ee-b626-0090a2cf62d8 - Copy.jpg',\n",
       " '509a16da-7e26-11ee-b233-0090a2cf62d8 - Copy.jpg',\n",
       " 'a04a8fef-7e28-11ee-ab80-0090a2cf62d8 - Copy.jpg',\n",
       " 'a0b36671-7e28-11ee-8144-0090a2cf62d8 - Copy.jpg',\n",
       " 'a2e0c870-7e28-11ee-9cd4-0090a2cf62d8 - Copy.jpg',\n",
       " 'a2fae049-7e28-11ee-9c2c-0090a2cf62d8 - Copy.jpg',\n",
       " 'a4e1d8e4-7e28-11ee-a0d2-0090a2cf62d8 - Copy.jpg',\n",
       " 'a4fef924-7e28-11ee-9c76-0090a2cf62d8 - Copy.jpg',\n",
       " 'a5af4127-7e28-11ee-934d-0090a2cf62d8 - Copy.jpg',\n",
       " 'a600adb1-7e28-11ee-a3c8-0090a2cf62d8 - Copy.jpg',\n",
       " 'a6440a8b-7e28-11ee-a7ee-0090a2cf62d8 - Copy.jpg',\n",
       " 'a9304dd3-7e28-11ee-a31d-0090a2cf62d8 - Copy.jpg',\n",
       " 'a9851fe3-7e28-11ee-914a-0090a2cf62d8 - Copy.jpg',\n",
       " 'aaa7d51f-7e28-11ee-a753-0090a2cf62d8 - Copy.jpg',\n",
       " 'ac24cba3-7e28-11ee-9f0b-0090a2cf62d8 - Copy.jpg',\n",
       " 'ac65273d-7e28-11ee-8c0a-0090a2cf62d8 - Copy.jpg',\n",
       " 'ac65273d-7e28-11ee-8c0a-0090a2cf62d8.jpg',\n",
       " 'ac81a8cc-7e28-11ee-99ad-0090a2cf62d8 - Copy.jpg',\n",
       " 'ac81a8cc-7e28-11ee-99ad-0090a2cf62d8.jpg',\n",
       " 'ad398526-7e28-11ee-b9d6-0090a2cf62d8.jpg',\n",
       " 'ad7330a9-7e28-11ee-8472-0090a2cf62d8.jpg',\n",
       " 'adb41ae7-7e28-11ee-8d81-0090a2cf62d8.jpg',\n",
       " 'add30b18-7e28-11ee-ad87-0090a2cf62d8.jpg',\n",
       " 'b0007199-7e28-11ee-93eb-0090a2cf62d8.jpg',\n",
       " 'b101dbee-7e28-11ee-88c1-0090a2cf62d8.jpg',\n",
       " 'b16d2221-7e28-11ee-b3c6-0090a2cf62d8.jpg',\n",
       " 'b1fa8eb1-7e28-11ee-b18b-0090a2cf62d8.jpg',\n",
       " 'b2557564-7e28-11ee-81b0-0090a2cf62d8.jpg',\n",
       " 'b2720f81-7e28-11ee-817c-0090a2cf62d8.jpg',\n",
       " 'b2cd4ea5-7e28-11ee-a7c4-0090a2cf62d8.jpg',\n",
       " 'b3346815-7e28-11ee-b7db-0090a2cf62d8.jpg',\n",
       " 'b3cdb94a-7e28-11ee-9fa8-0090a2cf62d8.jpg',\n",
       " 'b48fbe5c-7e28-11ee-b40b-0090a2cf62d8.jpg',\n",
       " 'b4c99bcf-7e28-11ee-ad79-0090a2cf62d8.jpg',\n",
       " 'b4e3f5df-7e28-11ee-bda8-0090a2cf62d8.jpg',\n",
       " 'b52470b2-7e28-11ee-9122-0090a2cf62d8.jpg',\n",
       " 'b53ebe40-7e28-11ee-97e7-0090a2cf62d8.jpg',\n",
       " 'b59e410f-7e28-11ee-b67e-0090a2cf62d8.jpg',\n",
       " 'b5bb3a72-7e28-11ee-9a3d-0090a2cf62d8.jpg',\n",
       " 'b6742294-7e28-11ee-8df5-0090a2cf62d8.jpg',\n",
       " 'b7efcdf0-7e28-11ee-a438-0090a2cf62d8.jpg']"
      ]
     },
     "execution_count": 118,
     "metadata": {},
     "output_type": "execute_result"
    }
   ],
   "source": [
    "os.listdir(os.path.join('Verification', 'verification_images'))"
   ]
  },
  {
   "cell_type": "code",
   "execution_count": 119,
   "id": "d0f5602d",
   "metadata": {},
   "outputs": [
    {
     "data": {
      "text/plain": [
       "'Verification\\\\input_image\\\\input_image.jpg'"
      ]
     },
     "execution_count": 119,
     "metadata": {},
     "output_type": "execute_result"
    }
   ],
   "source": [
    "os.path.join('Verification', 'input_image', 'input_image.jpg')"
   ]
  },
  {
   "cell_type": "code",
   "execution_count": 120,
   "id": "b0fe8044",
   "metadata": {},
   "outputs": [
    {
     "name": "stdout",
     "output_type": "stream",
     "text": [
      "Verification\\verification_images\\3c597edb-7e26-11ee-b042-0090a2cf62d8 - Copy (2).jpg\n",
      "Verification\\verification_images\\3c597edb-7e26-11ee-b042-0090a2cf62d8 - Copy - Copy.jpg\n",
      "Verification\\verification_images\\3d6db525-7e26-11ee-bc99-0090a2cf62d8 - Copy.jpg\n",
      "Verification\\verification_images\\3d95e699-7e26-11ee-a97c-0090a2cf62d8 - Copy.jpg\n",
      "Verification\\verification_images\\3e9a4426-7e26-11ee-9dab-0090a2cf62d8 - Copy.jpg\n",
      "Verification\\verification_images\\3f05a06d-7e26-11ee-ba42-0090a2cf62d8 - Copy.jpg\n",
      "Verification\\verification_images\\3fb0bc24-7e26-11ee-9500-0090a2cf62d8 - Copy.jpg\n",
      "Verification\\verification_images\\3fe9a8c8-7e26-11ee-8057-0090a2cf62d8 - Copy.jpg\n",
      "Verification\\verification_images\\4052c3f1-7e26-11ee-b869-0090a2cf62d8 - Copy.jpg\n",
      "Verification\\verification_images\\408503c1-7e26-11ee-a526-0090a2cf62d8 - Copy.jpg\n",
      "Verification\\verification_images\\4121c247-7e26-11ee-9106-0090a2cf62d8 - Copy.jpg\n",
      "Verification\\verification_images\\507613d8-7e26-11ee-b626-0090a2cf62d8 - Copy.jpg\n",
      "Verification\\verification_images\\509a16da-7e26-11ee-b233-0090a2cf62d8 - Copy.jpg\n",
      "Verification\\verification_images\\a04a8fef-7e28-11ee-ab80-0090a2cf62d8 - Copy.jpg\n",
      "Verification\\verification_images\\a0b36671-7e28-11ee-8144-0090a2cf62d8 - Copy.jpg\n",
      "Verification\\verification_images\\a2e0c870-7e28-11ee-9cd4-0090a2cf62d8 - Copy.jpg\n",
      "Verification\\verification_images\\a2fae049-7e28-11ee-9c2c-0090a2cf62d8 - Copy.jpg\n",
      "Verification\\verification_images\\a4e1d8e4-7e28-11ee-a0d2-0090a2cf62d8 - Copy.jpg\n",
      "Verification\\verification_images\\a4fef924-7e28-11ee-9c76-0090a2cf62d8 - Copy.jpg\n",
      "Verification\\verification_images\\a5af4127-7e28-11ee-934d-0090a2cf62d8 - Copy.jpg\n",
      "Verification\\verification_images\\a600adb1-7e28-11ee-a3c8-0090a2cf62d8 - Copy.jpg\n",
      "Verification\\verification_images\\a6440a8b-7e28-11ee-a7ee-0090a2cf62d8 - Copy.jpg\n",
      "Verification\\verification_images\\a9304dd3-7e28-11ee-a31d-0090a2cf62d8 - Copy.jpg\n",
      "Verification\\verification_images\\a9851fe3-7e28-11ee-914a-0090a2cf62d8 - Copy.jpg\n",
      "Verification\\verification_images\\aaa7d51f-7e28-11ee-a753-0090a2cf62d8 - Copy.jpg\n",
      "Verification\\verification_images\\ac24cba3-7e28-11ee-9f0b-0090a2cf62d8 - Copy.jpg\n",
      "Verification\\verification_images\\ac65273d-7e28-11ee-8c0a-0090a2cf62d8 - Copy.jpg\n",
      "Verification\\verification_images\\ac65273d-7e28-11ee-8c0a-0090a2cf62d8.jpg\n",
      "Verification\\verification_images\\ac81a8cc-7e28-11ee-99ad-0090a2cf62d8 - Copy.jpg\n",
      "Verification\\verification_images\\ac81a8cc-7e28-11ee-99ad-0090a2cf62d8.jpg\n",
      "Verification\\verification_images\\ad398526-7e28-11ee-b9d6-0090a2cf62d8.jpg\n",
      "Verification\\verification_images\\ad7330a9-7e28-11ee-8472-0090a2cf62d8.jpg\n",
      "Verification\\verification_images\\adb41ae7-7e28-11ee-8d81-0090a2cf62d8.jpg\n",
      "Verification\\verification_images\\add30b18-7e28-11ee-ad87-0090a2cf62d8.jpg\n",
      "Verification\\verification_images\\b0007199-7e28-11ee-93eb-0090a2cf62d8.jpg\n",
      "Verification\\verification_images\\b101dbee-7e28-11ee-88c1-0090a2cf62d8.jpg\n",
      "Verification\\verification_images\\b16d2221-7e28-11ee-b3c6-0090a2cf62d8.jpg\n",
      "Verification\\verification_images\\b1fa8eb1-7e28-11ee-b18b-0090a2cf62d8.jpg\n",
      "Verification\\verification_images\\b2557564-7e28-11ee-81b0-0090a2cf62d8.jpg\n",
      "Verification\\verification_images\\b2720f81-7e28-11ee-817c-0090a2cf62d8.jpg\n",
      "Verification\\verification_images\\b2cd4ea5-7e28-11ee-a7c4-0090a2cf62d8.jpg\n",
      "Verification\\verification_images\\b3346815-7e28-11ee-b7db-0090a2cf62d8.jpg\n",
      "Verification\\verification_images\\b3cdb94a-7e28-11ee-9fa8-0090a2cf62d8.jpg\n",
      "Verification\\verification_images\\b48fbe5c-7e28-11ee-b40b-0090a2cf62d8.jpg\n",
      "Verification\\verification_images\\b4c99bcf-7e28-11ee-ad79-0090a2cf62d8.jpg\n",
      "Verification\\verification_images\\b4e3f5df-7e28-11ee-bda8-0090a2cf62d8.jpg\n",
      "Verification\\verification_images\\b52470b2-7e28-11ee-9122-0090a2cf62d8.jpg\n",
      "Verification\\verification_images\\b53ebe40-7e28-11ee-97e7-0090a2cf62d8.jpg\n",
      "Verification\\verification_images\\b59e410f-7e28-11ee-b67e-0090a2cf62d8.jpg\n",
      "Verification\\verification_images\\b5bb3a72-7e28-11ee-9a3d-0090a2cf62d8.jpg\n",
      "Verification\\verification_images\\b6742294-7e28-11ee-8df5-0090a2cf62d8.jpg\n",
      "Verification\\verification_images\\b7efcdf0-7e28-11ee-a438-0090a2cf62d8.jpg\n"
     ]
    }
   ],
   "source": [
    "for image in os.listdir(os.path.join('Verification', 'verification_images')):\n",
    "    validation_img = os.path.join('Verification', 'verification_images', image)\n",
    "    print(validation_img)"
   ]
  },
  {
   "cell_type": "code",
   "execution_count": 121,
   "id": "650a3967",
   "metadata": {},
   "outputs": [],
   "source": [
    "def verify(model, detection_threshold, verification_threshold):\n",
    "    # Build results array\n",
    "    results = []\n",
    "    for image in os.listdir(os.path.join('Verification', 'verification_images')):\n",
    "        input_img = preprocess(os.path.join('Verification', 'input_image', 'input_image.jpg'))\n",
    "        validation_img = preprocess(os.path.join('verification', 'verification_images', image))\n",
    "        \n",
    "        # Make Predictions \n",
    "        result = model.predict(list(np.expand_dims([input_img, validation_img], axis=1)))\n",
    "        results.append(result)\n",
    "    \n",
    "    # Detection Threshold: Metric above which a prediciton is considered positive \n",
    "    detection = np.sum(np.array(results) > detection_threshold)\n",
    "    \n",
    "    # Verification Threshold: Proportion of positive predictions / total positive samples \n",
    "    verification = detection / len(os.listdir(os.path.join('Verification', 'verification_images'))) \n",
    "    verified = verification > verification_threshold\n",
    "    \n",
    "    return results, verified"
   ]
  },
  {
   "cell_type": "markdown",
   "id": "29c3ecce",
   "metadata": {},
   "source": [
    "OPENCV REAL TIME VERIFICATION"
   ]
  },
  {
   "cell_type": "code",
   "execution_count": 320,
   "id": "c3aa526f",
   "metadata": {},
   "outputs": [
    {
     "ename": "KeyboardInterrupt",
     "evalue": "",
     "output_type": "error",
     "traceback": [
      "\u001b[1;31m---------------------------------------------------------------------------\u001b[0m",
      "\u001b[1;31mKeyboardInterrupt\u001b[0m                         Traceback (most recent call last)",
      "Cell \u001b[1;32mIn[320], line 25\u001b[0m\n\u001b[0;32m     22\u001b[0m         results, verified \u001b[38;5;241m=\u001b[39m verify(siamese_model, \u001b[38;5;241m0.5\u001b[39m, \u001b[38;5;241m0.5\u001b[39m)\n\u001b[0;32m     23\u001b[0m         \u001b[38;5;28mprint\u001b[39m(verified)\n\u001b[1;32m---> 25\u001b[0m     \u001b[38;5;28;01mif\u001b[39;00m \u001b[43mcv2\u001b[49m\u001b[38;5;241;43m.\u001b[39;49m\u001b[43mwaitKey\u001b[49m\u001b[43m(\u001b[49m\u001b[38;5;241;43m10\u001b[39;49m\u001b[43m)\u001b[49m \u001b[38;5;241m&\u001b[39m \u001b[38;5;241m0xFF\u001b[39m \u001b[38;5;241m==\u001b[39m \u001b[38;5;28mord\u001b[39m(\u001b[38;5;124m'\u001b[39m\u001b[38;5;124mq\u001b[39m\u001b[38;5;124m'\u001b[39m):\n\u001b[0;32m     26\u001b[0m         \u001b[38;5;28;01mbreak\u001b[39;00m\n\u001b[0;32m     28\u001b[0m cap\u001b[38;5;241m.\u001b[39mrelease()\n",
      "\u001b[1;31mKeyboardInterrupt\u001b[0m: "
     ]
    }
   ],
   "source": [
    "\n"
   ]
  },
  {
   "cell_type": "code",
   "execution_count": 122,
   "id": "ea339ce6",
   "metadata": {
    "scrolled": true
   },
   "outputs": [
    {
     "ename": "NotFoundError",
     "evalue": "{{function_node __wrapped__ReadFile_device_/job:localhost/replica:0/task:0/device:CPU:0}} NewRandomAccessFile failed to Create/Open: Verification\\input_image\\input_image.jpg : The system cannot find the file specified.\r\n; No such file or directory [Op:ReadFile]",
     "output_type": "error",
     "traceback": [
      "\u001b[1;31m---------------------------------------------------------------------------\u001b[0m",
      "\u001b[1;31mNotFoundError\u001b[0m                             Traceback (most recent call last)",
      "Cell \u001b[1;32mIn[122], line 23\u001b[0m\n\u001b[0;32m     21\u001b[0m cv2\u001b[38;5;241m.\u001b[39mimwrite(os\u001b[38;5;241m.\u001b[39mpath\u001b[38;5;241m.\u001b[39mjoin(\u001b[38;5;124m'\u001b[39m\u001b[38;5;124mapplication_data\u001b[39m\u001b[38;5;124m'\u001b[39m, \u001b[38;5;124m'\u001b[39m\u001b[38;5;124minput_image\u001b[39m\u001b[38;5;124m'\u001b[39m, \u001b[38;5;124m'\u001b[39m\u001b[38;5;124minput_image.jpg\u001b[39m\u001b[38;5;124m'\u001b[39m), frame)\n\u001b[0;32m     22\u001b[0m \u001b[38;5;66;03m# Run verification\u001b[39;00m\n\u001b[1;32m---> 23\u001b[0m results, verified \u001b[38;5;241m=\u001b[39m \u001b[43mverify\u001b[49m\u001b[43m(\u001b[49m\u001b[43msiamese_model\u001b[49m\u001b[43m,\u001b[49m\u001b[43m \u001b[49m\u001b[38;5;241;43m0.9\u001b[39;49m\u001b[43m,\u001b[49m\u001b[43m \u001b[49m\u001b[38;5;241;43m0.7\u001b[39;49m\u001b[43m)\u001b[49m\n\u001b[0;32m     24\u001b[0m \u001b[38;5;28mprint\u001b[39m(\u001b[38;5;124m\"\u001b[39m\u001b[38;5;124mVerification Results:\u001b[39m\u001b[38;5;124m\"\u001b[39m, results)\n\u001b[0;32m     25\u001b[0m \u001b[38;5;28mprint\u001b[39m(\u001b[38;5;124m\"\u001b[39m\u001b[38;5;124mVerification Outcome:\u001b[39m\u001b[38;5;124m\"\u001b[39m, verified)\n",
      "Cell \u001b[1;32mIn[121], line 5\u001b[0m, in \u001b[0;36mverify\u001b[1;34m(model, detection_threshold, verification_threshold)\u001b[0m\n\u001b[0;32m      3\u001b[0m results \u001b[38;5;241m=\u001b[39m []\n\u001b[0;32m      4\u001b[0m \u001b[38;5;28;01mfor\u001b[39;00m image \u001b[38;5;129;01min\u001b[39;00m os\u001b[38;5;241m.\u001b[39mlistdir(os\u001b[38;5;241m.\u001b[39mpath\u001b[38;5;241m.\u001b[39mjoin(\u001b[38;5;124m'\u001b[39m\u001b[38;5;124mVerification\u001b[39m\u001b[38;5;124m'\u001b[39m, \u001b[38;5;124m'\u001b[39m\u001b[38;5;124mverification_images\u001b[39m\u001b[38;5;124m'\u001b[39m)):\n\u001b[1;32m----> 5\u001b[0m     input_img \u001b[38;5;241m=\u001b[39m \u001b[43mpreprocess\u001b[49m\u001b[43m(\u001b[49m\u001b[43mos\u001b[49m\u001b[38;5;241;43m.\u001b[39;49m\u001b[43mpath\u001b[49m\u001b[38;5;241;43m.\u001b[39;49m\u001b[43mjoin\u001b[49m\u001b[43m(\u001b[49m\u001b[38;5;124;43m'\u001b[39;49m\u001b[38;5;124;43mVerification\u001b[39;49m\u001b[38;5;124;43m'\u001b[39;49m\u001b[43m,\u001b[49m\u001b[43m \u001b[49m\u001b[38;5;124;43m'\u001b[39;49m\u001b[38;5;124;43minput_image\u001b[39;49m\u001b[38;5;124;43m'\u001b[39;49m\u001b[43m,\u001b[49m\u001b[43m \u001b[49m\u001b[38;5;124;43m'\u001b[39;49m\u001b[38;5;124;43minput_image.jpg\u001b[39;49m\u001b[38;5;124;43m'\u001b[39;49m\u001b[43m)\u001b[49m\u001b[43m)\u001b[49m\n\u001b[0;32m      6\u001b[0m     validation_img \u001b[38;5;241m=\u001b[39m preprocess(os\u001b[38;5;241m.\u001b[39mpath\u001b[38;5;241m.\u001b[39mjoin(\u001b[38;5;124m'\u001b[39m\u001b[38;5;124mverification\u001b[39m\u001b[38;5;124m'\u001b[39m, \u001b[38;5;124m'\u001b[39m\u001b[38;5;124mverification_images\u001b[39m\u001b[38;5;124m'\u001b[39m, image))\n\u001b[0;32m      8\u001b[0m     \u001b[38;5;66;03m# Make Predictions \u001b[39;00m\n",
      "Cell \u001b[1;32mIn[18], line 5\u001b[0m, in \u001b[0;36mpreprocess\u001b[1;34m(file_path)\u001b[0m\n\u001b[0;32m      2\u001b[0m \u001b[38;5;28;01mdef\u001b[39;00m \u001b[38;5;21mpreprocess\u001b[39m(file_path):\n\u001b[0;32m      3\u001b[0m     \n\u001b[0;32m      4\u001b[0m     \u001b[38;5;66;03m# Read in image from file path\u001b[39;00m\n\u001b[1;32m----> 5\u001b[0m     byte_img \u001b[38;5;241m=\u001b[39m \u001b[43mtf\u001b[49m\u001b[38;5;241;43m.\u001b[39;49m\u001b[43mio\u001b[49m\u001b[38;5;241;43m.\u001b[39;49m\u001b[43mread_file\u001b[49m\u001b[43m(\u001b[49m\u001b[43mfile_path\u001b[49m\u001b[43m)\u001b[49m\n\u001b[0;32m      6\u001b[0m     \u001b[38;5;66;03m# Load in the image \u001b[39;00m\n\u001b[0;32m      7\u001b[0m     img \u001b[38;5;241m=\u001b[39m tf\u001b[38;5;241m.\u001b[39mio\u001b[38;5;241m.\u001b[39mdecode_jpeg(byte_img)\n",
      "File \u001b[1;32mC:\\ProgramData\\anaconda3\\lib\\site-packages\\tensorflow\\python\\ops\\io_ops.py:134\u001b[0m, in \u001b[0;36mread_file\u001b[1;34m(filename, name)\u001b[0m\n\u001b[0;32m     97\u001b[0m \u001b[38;5;129m@tf_export\u001b[39m(\u001b[38;5;124m\"\u001b[39m\u001b[38;5;124mio.read_file\u001b[39m\u001b[38;5;124m\"\u001b[39m, v1\u001b[38;5;241m=\u001b[39m[\u001b[38;5;124m\"\u001b[39m\u001b[38;5;124mio.read_file\u001b[39m\u001b[38;5;124m\"\u001b[39m, \u001b[38;5;124m\"\u001b[39m\u001b[38;5;124mread_file\u001b[39m\u001b[38;5;124m\"\u001b[39m])\n\u001b[0;32m     98\u001b[0m \u001b[38;5;28;01mdef\u001b[39;00m \u001b[38;5;21mread_file\u001b[39m(filename, name\u001b[38;5;241m=\u001b[39m\u001b[38;5;28;01mNone\u001b[39;00m):\n\u001b[0;32m     99\u001b[0m   \u001b[38;5;124;03m\"\"\"Reads the contents of file.\u001b[39;00m\n\u001b[0;32m    100\u001b[0m \n\u001b[0;32m    101\u001b[0m \u001b[38;5;124;03m  This operation returns a tensor with the entire contents of the input\u001b[39;00m\n\u001b[1;32m   (...)\u001b[0m\n\u001b[0;32m    132\u001b[0m \u001b[38;5;124;03m    A tensor of dtype \"string\", with the file contents.\u001b[39;00m\n\u001b[0;32m    133\u001b[0m \u001b[38;5;124;03m  \"\"\"\u001b[39;00m\n\u001b[1;32m--> 134\u001b[0m   \u001b[38;5;28;01mreturn\u001b[39;00m \u001b[43mgen_io_ops\u001b[49m\u001b[38;5;241;43m.\u001b[39;49m\u001b[43mread_file\u001b[49m\u001b[43m(\u001b[49m\u001b[43mfilename\u001b[49m\u001b[43m,\u001b[49m\u001b[43m \u001b[49m\u001b[43mname\u001b[49m\u001b[43m)\u001b[49m\n",
      "File \u001b[1;32mC:\\ProgramData\\anaconda3\\lib\\site-packages\\tensorflow\\python\\ops\\gen_io_ops.py:611\u001b[0m, in \u001b[0;36mread_file\u001b[1;34m(filename, name)\u001b[0m\n\u001b[0;32m    609\u001b[0m   \u001b[38;5;28;01mpass\u001b[39;00m\n\u001b[0;32m    610\u001b[0m \u001b[38;5;28;01mtry\u001b[39;00m:\n\u001b[1;32m--> 611\u001b[0m   \u001b[38;5;28;01mreturn\u001b[39;00m \u001b[43mread_file_eager_fallback\u001b[49m\u001b[43m(\u001b[49m\n\u001b[0;32m    612\u001b[0m \u001b[43m      \u001b[49m\u001b[43mfilename\u001b[49m\u001b[43m,\u001b[49m\u001b[43m \u001b[49m\u001b[43mname\u001b[49m\u001b[38;5;241;43m=\u001b[39;49m\u001b[43mname\u001b[49m\u001b[43m,\u001b[49m\u001b[43m \u001b[49m\u001b[43mctx\u001b[49m\u001b[38;5;241;43m=\u001b[39;49m\u001b[43m_ctx\u001b[49m\u001b[43m)\u001b[49m\n\u001b[0;32m    613\u001b[0m \u001b[38;5;28;01mexcept\u001b[39;00m _core\u001b[38;5;241m.\u001b[39m_SymbolicException:\n\u001b[0;32m    614\u001b[0m   \u001b[38;5;28;01mpass\u001b[39;00m  \u001b[38;5;66;03m# Add nodes to the TensorFlow graph.\u001b[39;00m\n",
      "File \u001b[1;32mC:\\ProgramData\\anaconda3\\lib\\site-packages\\tensorflow\\python\\ops\\gen_io_ops.py:634\u001b[0m, in \u001b[0;36mread_file_eager_fallback\u001b[1;34m(filename, name, ctx)\u001b[0m\n\u001b[0;32m    632\u001b[0m _inputs_flat \u001b[38;5;241m=\u001b[39m [filename]\n\u001b[0;32m    633\u001b[0m _attrs \u001b[38;5;241m=\u001b[39m \u001b[38;5;28;01mNone\u001b[39;00m\n\u001b[1;32m--> 634\u001b[0m _result \u001b[38;5;241m=\u001b[39m \u001b[43m_execute\u001b[49m\u001b[38;5;241;43m.\u001b[39;49m\u001b[43mexecute\u001b[49m\u001b[43m(\u001b[49m\u001b[38;5;124;43mb\u001b[39;49m\u001b[38;5;124;43m\"\u001b[39;49m\u001b[38;5;124;43mReadFile\u001b[39;49m\u001b[38;5;124;43m\"\u001b[39;49m\u001b[43m,\u001b[49m\u001b[43m \u001b[49m\u001b[38;5;241;43m1\u001b[39;49m\u001b[43m,\u001b[49m\u001b[43m \u001b[49m\u001b[43minputs\u001b[49m\u001b[38;5;241;43m=\u001b[39;49m\u001b[43m_inputs_flat\u001b[49m\u001b[43m,\u001b[49m\n\u001b[0;32m    635\u001b[0m \u001b[43m                           \u001b[49m\u001b[43mattrs\u001b[49m\u001b[38;5;241;43m=\u001b[39;49m\u001b[43m_attrs\u001b[49m\u001b[43m,\u001b[49m\u001b[43m \u001b[49m\u001b[43mctx\u001b[49m\u001b[38;5;241;43m=\u001b[39;49m\u001b[43mctx\u001b[49m\u001b[43m,\u001b[49m\u001b[43m \u001b[49m\u001b[43mname\u001b[49m\u001b[38;5;241;43m=\u001b[39;49m\u001b[43mname\u001b[49m\u001b[43m)\u001b[49m\n\u001b[0;32m    636\u001b[0m \u001b[38;5;28;01mif\u001b[39;00m _execute\u001b[38;5;241m.\u001b[39mmust_record_gradient():\n\u001b[0;32m    637\u001b[0m   _execute\u001b[38;5;241m.\u001b[39mrecord_gradient(\n\u001b[0;32m    638\u001b[0m       \u001b[38;5;124m\"\u001b[39m\u001b[38;5;124mReadFile\u001b[39m\u001b[38;5;124m\"\u001b[39m, _inputs_flat, _attrs, _result)\n",
      "File \u001b[1;32mC:\\ProgramData\\anaconda3\\lib\\site-packages\\tensorflow\\python\\eager\\execute.py:60\u001b[0m, in \u001b[0;36mquick_execute\u001b[1;34m(op_name, num_outputs, inputs, attrs, ctx, name)\u001b[0m\n\u001b[0;32m     53\u001b[0m   \u001b[38;5;66;03m# Convert any objects of type core_types.Tensor to Tensor.\u001b[39;00m\n\u001b[0;32m     54\u001b[0m   inputs \u001b[38;5;241m=\u001b[39m [\n\u001b[0;32m     55\u001b[0m       tensor_conversion_registry\u001b[38;5;241m.\u001b[39mconvert(t)\n\u001b[0;32m     56\u001b[0m       \u001b[38;5;28;01mif\u001b[39;00m \u001b[38;5;28misinstance\u001b[39m(t, core_types\u001b[38;5;241m.\u001b[39mTensor)\n\u001b[0;32m     57\u001b[0m       \u001b[38;5;28;01melse\u001b[39;00m t\n\u001b[0;32m     58\u001b[0m       \u001b[38;5;28;01mfor\u001b[39;00m t \u001b[38;5;129;01min\u001b[39;00m inputs\n\u001b[0;32m     59\u001b[0m   ]\n\u001b[1;32m---> 60\u001b[0m   tensors \u001b[38;5;241m=\u001b[39m \u001b[43mpywrap_tfe\u001b[49m\u001b[38;5;241;43m.\u001b[39;49m\u001b[43mTFE_Py_Execute\u001b[49m\u001b[43m(\u001b[49m\u001b[43mctx\u001b[49m\u001b[38;5;241;43m.\u001b[39;49m\u001b[43m_handle\u001b[49m\u001b[43m,\u001b[49m\u001b[43m \u001b[49m\u001b[43mdevice_name\u001b[49m\u001b[43m,\u001b[49m\u001b[43m \u001b[49m\u001b[43mop_name\u001b[49m\u001b[43m,\u001b[49m\n\u001b[0;32m     61\u001b[0m \u001b[43m                                      \u001b[49m\u001b[43minputs\u001b[49m\u001b[43m,\u001b[49m\u001b[43m \u001b[49m\u001b[43mattrs\u001b[49m\u001b[43m,\u001b[49m\u001b[43m \u001b[49m\u001b[43mnum_outputs\u001b[49m\u001b[43m)\u001b[49m\n\u001b[0;32m     62\u001b[0m \u001b[38;5;28;01mexcept\u001b[39;00m core\u001b[38;5;241m.\u001b[39m_NotOkStatusException \u001b[38;5;28;01mas\u001b[39;00m e:\n\u001b[0;32m     63\u001b[0m   \u001b[38;5;28;01mif\u001b[39;00m name \u001b[38;5;129;01mis\u001b[39;00m \u001b[38;5;129;01mnot\u001b[39;00m \u001b[38;5;28;01mNone\u001b[39;00m:\n",
      "\u001b[1;31mNotFoundError\u001b[0m: {{function_node __wrapped__ReadFile_device_/job:localhost/replica:0/task:0/device:CPU:0}} NewRandomAccessFile failed to Create/Open: Verification\\input_image\\input_image.jpg : The system cannot find the file specified.\r\n; No such file or directory [Op:ReadFile]"
     ]
    }
   ],
   "source": [
    "cap = cv2.VideoCapture(0)\n",
    "while cap.isOpened():\n",
    "    ret, frame = cap.read()\n",
    "    frame = frame[120:120+750,200:200+650, :]\n",
    "    \n",
    "    cv2.imshow('Verification', frame)\n",
    "    \n",
    "    # Verification trigger\n",
    "    if cv2.waitKey(10) & 0xFF == ord('v'):\n",
    "        # Save input image to application_data/input_image folder \n",
    "#         hsv = cv2.cvtColor(frame, cv2.COLOR_BGR2HSV)\n",
    "#         h, s, v = cv2.split(hsv)\n",
    "\n",
    "#         lim = 255 - 10\n",
    "#         v[v > lim] = 255\n",
    "#         v[v <= lim] -= 10\n",
    "        \n",
    "#         final_hsv = cv2.merge((h, s, v))\n",
    "#         img = cv2.cvtColor(final_hsv, cv2.COLOR_HSV2BGR)\n",
    "\n",
    "        cv2.imwrite(os.path.join('application_data', 'input_image', 'input_image.jpg'), frame)\n",
    "        # Run verification\n",
    "        results, verified = verify(siamese_model, 0.9, 0.7)\n",
    "        print(\"Verification Results:\", results)\n",
    "        print(\"Verification Outcome:\", verified)\n",
    "        print(verified)\n",
    "    \n",
    "    if cv2.waitKey(10) & 0xFF == ord('q'):\n",
    "        break\n",
    "cap.release()\n",
    "cv2.destroyAllWindows()"
   ]
  },
  {
   "cell_type": "code",
   "execution_count": 312,
   "id": "5f9a4dbe",
   "metadata": {},
   "outputs": [
    {
     "name": "stdout",
     "output_type": "stream",
     "text": [
      "Model: \"SiameseNetwork\"\n",
      "__________________________________________________________________________________________________\n",
      " Layer (type)                Output Shape                 Param #   Connected to                  \n",
      "==================================================================================================\n",
      " input_img (InputLayer)      [(None, 100, 100, 3)]        0         []                            \n",
      "                                                                                                  \n",
      " validation_img (InputLayer  [(None, 100, 100, 3)]        0         []                            \n",
      " )                                                                                                \n",
      "                                                                                                  \n",
      " embedding (Functional)      (None, 4096)                 3896044   ['input_img[0][0]',           \n",
      "                                                          8          'validation_img[0][0]']      \n",
      "                                                                                                  \n",
      " l1_dist_12 (L1Dist)         (None, 4096)                 0         ['embedding[0][0]',           \n",
      "                                                                     'embedding[1][0]']           \n",
      "                                                                                                  \n",
      " dense_3 (Dense)             (None, 1)                    4097      ['l1_dist_12[0][0]']          \n",
      "                                                                                                  \n",
      "==================================================================================================\n",
      "Total params: 38964545 (148.64 MB)\n",
      "Trainable params: 38964545 (148.64 MB)\n",
      "Non-trainable params: 0 (0.00 Byte)\n",
      "__________________________________________________________________________________________________\n"
     ]
    }
   ],
   "source": [
    "model.summary()"
   ]
  },
  {
   "cell_type": "code",
   "execution_count": 312,
   "id": "1bbfdcb5",
   "metadata": {},
   "outputs": [
    {
     "name": "stdout",
     "output_type": "stream",
     "text": [
      "Model: \"SiameseNetwork\"\n",
      "__________________________________________________________________________________________________\n",
      " Layer (type)                Output Shape                 Param #   Connected to                  \n",
      "==================================================================================================\n",
      " input_img (InputLayer)      [(None, 100, 100, 3)]        0         []                            \n",
      "                                                                                                  \n",
      " validation_img (InputLayer  [(None, 100, 100, 3)]        0         []                            \n",
      " )                                                                                                \n",
      "                                                                                                  \n",
      " embedding (Functional)      (None, 4096)                 3896044   ['input_img[0][0]',           \n",
      "                                                          8          'validation_img[0][0]']      \n",
      "                                                                                                  \n",
      " l1_dist_12 (L1Dist)         (None, 4096)                 0         ['embedding[0][0]',           \n",
      "                                                                     'embedding[1][0]']           \n",
      "                                                                                                  \n",
      " dense_3 (Dense)             (None, 1)                    4097      ['l1_dist_12[0][0]']          \n",
      "                                                                                                  \n",
      "==================================================================================================\n",
      "Total params: 38964545 (148.64 MB)\n",
      "Trainable params: 38964545 (148.64 MB)\n",
      "Non-trainable params: 0 (0.00 Byte)\n",
      "__________________________________________________________________________________________________\n"
     ]
    }
   ],
   "source": [
    "model.summary()"
   ]
  },
  {
   "cell_type": "code",
   "execution_count": 328,
   "id": "b1a35e99",
   "metadata": {},
   "outputs": [
    {
     "data": {
      "text/plain": [
       "array([False, False, False, False, False, False, False, False, False,\n",
       "       False, False, False, False, False, False, False, False, False,\n",
       "       False, False, False, False, False, False, False, False, False,\n",
       "       False, False, False, False, False, False, False, False, False,\n",
       "       False, False, False, False, False, False, False, False, False,\n",
       "       False, False, False, False, False, False, False])"
      ]
     },
     "execution_count": 328,
     "metadata": {},
     "output_type": "execute_result"
    }
   ],
   "source": [
    "np.squeeze(results) > 0.6"
   ]
  },
  {
   "cell_type": "code",
   "execution_count": 312,
   "id": "ae8d6c9f",
   "metadata": {},
   "outputs": [
    {
     "name": "stdout",
     "output_type": "stream",
     "text": [
      "Model: \"SiameseNetwork\"\n",
      "__________________________________________________________________________________________________\n",
      " Layer (type)                Output Shape                 Param #   Connected to                  \n",
      "==================================================================================================\n",
      " input_img (InputLayer)      [(None, 100, 100, 3)]        0         []                            \n",
      "                                                                                                  \n",
      " validation_img (InputLayer  [(None, 100, 100, 3)]        0         []                            \n",
      " )                                                                                                \n",
      "                                                                                                  \n",
      " embedding (Functional)      (None, 4096)                 3896044   ['input_img[0][0]',           \n",
      "                                                          8          'validation_img[0][0]']      \n",
      "                                                                                                  \n",
      " l1_dist_12 (L1Dist)         (None, 4096)                 0         ['embedding[0][0]',           \n",
      "                                                                     'embedding[1][0]']           \n",
      "                                                                                                  \n",
      " dense_3 (Dense)             (None, 1)                    4097      ['l1_dist_12[0][0]']          \n",
      "                                                                                                  \n",
      "==================================================================================================\n",
      "Total params: 38964545 (148.64 MB)\n",
      "Trainable params: 38964545 (148.64 MB)\n",
      "Non-trainable params: 0 (0.00 Byte)\n",
      "__________________________________________________________________________________________________\n"
     ]
    }
   ],
   "source": [
    "model.summary()"
   ]
  },
  {
   "cell_type": "code",
   "execution_count": 312,
   "id": "d1b8c6dc",
   "metadata": {},
   "outputs": [
    {
     "name": "stdout",
     "output_type": "stream",
     "text": [
      "Model: \"SiameseNetwork\"\n",
      "__________________________________________________________________________________________________\n",
      " Layer (type)                Output Shape                 Param #   Connected to                  \n",
      "==================================================================================================\n",
      " input_img (InputLayer)      [(None, 100, 100, 3)]        0         []                            \n",
      "                                                                                                  \n",
      " validation_img (InputLayer  [(None, 100, 100, 3)]        0         []                            \n",
      " )                                                                                                \n",
      "                                                                                                  \n",
      " embedding (Functional)      (None, 4096)                 3896044   ['input_img[0][0]',           \n",
      "                                                          8          'validation_img[0][0]']      \n",
      "                                                                                                  \n",
      " l1_dist_12 (L1Dist)         (None, 4096)                 0         ['embedding[0][0]',           \n",
      "                                                                     'embedding[1][0]']           \n",
      "                                                                                                  \n",
      " dense_3 (Dense)             (None, 1)                    4097      ['l1_dist_12[0][0]']          \n",
      "                                                                                                  \n",
      "==================================================================================================\n",
      "Total params: 38964545 (148.64 MB)\n",
      "Trainable params: 38964545 (148.64 MB)\n",
      "Non-trainable params: 0 (0.00 Byte)\n",
      "__________________________________________________________________________________________________\n"
     ]
    }
   ],
   "source": [
    "model.summary()"
   ]
  },
  {
   "cell_type": "code",
   "execution_count": 312,
   "id": "f30499c2",
   "metadata": {},
   "outputs": [
    {
     "name": "stdout",
     "output_type": "stream",
     "text": [
      "Model: \"SiameseNetwork\"\n",
      "__________________________________________________________________________________________________\n",
      " Layer (type)                Output Shape                 Param #   Connected to                  \n",
      "==================================================================================================\n",
      " input_img (InputLayer)      [(None, 100, 100, 3)]        0         []                            \n",
      "                                                                                                  \n",
      " validation_img (InputLayer  [(None, 100, 100, 3)]        0         []                            \n",
      " )                                                                                                \n",
      "                                                                                                  \n",
      " embedding (Functional)      (None, 4096)                 3896044   ['input_img[0][0]',           \n",
      "                                                          8          'validation_img[0][0]']      \n",
      "                                                                                                  \n",
      " l1_dist_12 (L1Dist)         (None, 4096)                 0         ['embedding[0][0]',           \n",
      "                                                                     'embedding[1][0]']           \n",
      "                                                                                                  \n",
      " dense_3 (Dense)             (None, 1)                    4097      ['l1_dist_12[0][0]']          \n",
      "                                                                                                  \n",
      "==================================================================================================\n",
      "Total params: 38964545 (148.64 MB)\n",
      "Trainable params: 38964545 (148.64 MB)\n",
      "Non-trainable params: 0 (0.00 Byte)\n",
      "__________________________________________________________________________________________________\n"
     ]
    }
   ],
   "source": [
    "model.summary()"
   ]
  },
  {
   "cell_type": "code",
   "execution_count": 332,
   "id": "8b84a613",
   "metadata": {},
   "outputs": [
    {
     "data": {
      "text/plain": [
       "0"
      ]
     },
     "execution_count": 332,
     "metadata": {},
     "output_type": "execute_result"
    }
   ],
   "source": [
    "np.sum(np.squeeze(results)>0.5)"
   ]
  },
  {
   "cell_type": "code",
   "execution_count": 338,
   "id": "6688a06a",
   "metadata": {
    "scrolled": true
   },
   "outputs": [
    {
     "data": {
      "text/plain": [
       "[array([[0.75339675]], dtype=float32),\n",
       " array([[0.75339675]], dtype=float32),\n",
       " array([[0.50086355]], dtype=float32),\n",
       " array([[0.6172973]], dtype=float32),\n",
       " array([[0.8417058]], dtype=float32),\n",
       " array([[0.9748161]], dtype=float32),\n",
       " array([[0.62185]], dtype=float32),\n",
       " array([[0.5173037]], dtype=float32),\n",
       " array([[0.44330707]], dtype=float32),\n",
       " array([[0.50185263]], dtype=float32),\n",
       " array([[0.5210996]], dtype=float32),\n",
       " array([[0.99963474]], dtype=float32),\n",
       " array([[0.9994864]], dtype=float32),\n",
       " array([[0.9998589]], dtype=float32),\n",
       " array([[0.99941874]], dtype=float32),\n",
       " array([[0.99966013]], dtype=float32),\n",
       " array([[0.9997582]], dtype=float32),\n",
       " array([[0.97926265]], dtype=float32),\n",
       " array([[0.96161586]], dtype=float32),\n",
       " array([[0.5896343]], dtype=float32),\n",
       " array([[0.9647324]], dtype=float32),\n",
       " array([[0.9196353]], dtype=float32),\n",
       " array([[0.06340576]], dtype=float32),\n",
       " array([[0.7935034]], dtype=float32),\n",
       " array([[0.9989703]], dtype=float32),\n",
       " array([[0.97452146]], dtype=float32),\n",
       " array([[0.9900331]], dtype=float32),\n",
       " array([[0.9900331]], dtype=float32),\n",
       " array([[0.9772171]], dtype=float32),\n",
       " array([[0.9772171]], dtype=float32),\n",
       " array([[0.98627454]], dtype=float32),\n",
       " array([[0.9736418]], dtype=float32),\n",
       " array([[0.99108326]], dtype=float32),\n",
       " array([[0.8124703]], dtype=float32),\n",
       " array([[0.9971384]], dtype=float32),\n",
       " array([[0.9894793]], dtype=float32),\n",
       " array([[0.99268556]], dtype=float32),\n",
       " array([[0.99526465]], dtype=float32),\n",
       " array([[0.93210506]], dtype=float32),\n",
       " array([[0.8884524]], dtype=float32),\n",
       " array([[0.9765406]], dtype=float32),\n",
       " array([[0.9598137]], dtype=float32),\n",
       " array([[0.99782896]], dtype=float32),\n",
       " array([[0.9926043]], dtype=float32),\n",
       " array([[0.958007]], dtype=float32),\n",
       " array([[0.91418993]], dtype=float32),\n",
       " array([[0.86119795]], dtype=float32),\n",
       " array([[0.9806122]], dtype=float32),\n",
       " array([[0.9831945]], dtype=float32),\n",
       " array([[0.9856356]], dtype=float32),\n",
       " array([[0.9910517]], dtype=float32),\n",
       " array([[0.8494294]], dtype=float32)]"
      ]
     },
     "execution_count": 338,
     "metadata": {},
     "output_type": "execute_result"
    }
   ],
   "source": [
    "results"
   ]
  },
  {
   "cell_type": "code",
   "execution_count": null,
   "id": "55b6577c",
   "metadata": {},
   "outputs": [],
   "source": []
  }
 ],
 "metadata": {
  "kernelspec": {
   "display_name": "Python 3 (ipykernel)",
   "language": "python",
   "name": "python3"
  },
  "language_info": {
   "codemirror_mode": {
    "name": "ipython",
    "version": 3
   },
   "file_extension": ".py",
   "mimetype": "text/x-python",
   "name": "python",
   "nbconvert_exporter": "python",
   "pygments_lexer": "ipython3",
   "version": "3.10.9"
  }
 },
 "nbformat": 4,
 "nbformat_minor": 5
}
